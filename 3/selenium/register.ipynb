{
 "cells": [
  {
   "attachments": {},
   "cell_type": "markdown",
   "metadata": {},
   "source": [
    "# 用`selenium`登入網站"
   ]
  },
  {
   "attachments": {},
   "cell_type": "markdown",
   "metadata": {},
   "source": [
    "### 載入基本套件"
   ]
  },
  {
   "cell_type": "code",
   "execution_count": 1,
   "metadata": {},
   "outputs": [],
   "source": [
    "from selenium import webdriver\n",
    "from selenium.webdriver.chrome.options import Options\n",
    "from selenium.webdriver.chrome.service import Service\n",
    "from selenium.webdriver.support import expected_conditions as EC\n",
    "from selenium.webdriver.support.ui import WebDriverWait\n",
    "from selenium.webdriver.common.by import By\n",
    "from fake_useragent import UserAgent"
   ]
  },
  {
   "attachments": {},
   "cell_type": "markdown",
   "metadata": {},
   "source": [
    "### 連接至主機的chrome，似乎不用chromedriver，只要安裝chrome瀏覽器就行了"
   ]
  },
  {
   "cell_type": "code",
   "execution_count": 2,
   "metadata": {},
   "outputs": [
    {
     "name": "stdout",
     "output_type": "stream",
     "text": [
      "Mozilla/5.0 (Windows NT 6.0; U; ja; rv:1.9.1.6) Gecko/20091201 Firefox/3.5.6 Opera 11.00\n"
     ]
    },
    {
     "data": {
      "text/plain": [
       "True"
      ]
     },
     "execution_count": 2,
     "metadata": {},
     "output_type": "execute_result"
    }
   ],
   "source": [
    "options = Options() \n",
    "\n",
    "ua = UserAgent()\n",
    "userAgent = ua.random\n",
    "\n",
    "print(userAgent)\n",
    "\n",
    "options.add_argument(f'user-agent={userAgent}')\n",
    "options.add_argument('--headless')  # 非本機執行，必須啟動Headless模式\n",
    "options.add_argument('--disable-gpu') # 關閉GPU 避免某些系統或是網頁出錯\n",
    "options.add_argument(\"--disable-notifications\") # 關閉彈出視窗\n",
    "\n",
    "# 如果chromedriver沒有在PATH中，就要將完整路徑放入\n",
    "# service = Service(r\"/home/must/workspace/selenium/chromedriver\")\n",
    "\n",
    "# 如果chromedriver有在PATH中，直接\n",
    "service = Service()\n",
    "\n",
    "#載入瀏覽器\n",
    "driver = webdriver.Chrome(service=service, options=options)\n",
    "\n",
    "url = 'http://siliconexam.com/st-register.php'\n",
    "driver.get(url)\n",
    "driver.get_screenshot_as_file('0driver.png')\n"
   ]
  },
  {
   "attachments": {},
   "cell_type": "markdown",
   "metadata": {},
   "source": [
    "### 從下拉選單選擇並輸入`country`值\n",
    "* 使用`selenium.webdriver.support.ui`的`Select`元件\n",
    "* 使用`random`套件來從0-232個國家中隨機挑選\n",
    "* 使用`driver.find_element(\"name\", \"country_id\")`，其中`country_id`要自己去F12找。\n",
    "* 找到後用`country_id.select_by_value(str(random.randint(1,233)))`輸入，其中數字要轉成字串\n",
    "* 最抓個圖看看"
   ]
  },
  {
   "cell_type": "code",
   "execution_count": 3,
   "metadata": {},
   "outputs": [
    {
     "data": {
      "text/plain": [
       "True"
      ]
     },
     "execution_count": 3,
     "metadata": {},
     "output_type": "execute_result"
    }
   ],
   "source": [
    "from selenium.webdriver.support.ui import Select\n",
    "import random\n",
    "\n",
    "country_id = Select(driver.find_element(By.NAME, 'country_id'))\n",
    "country_id.select_by_value(str(random.randint(1,233)))\n",
    "driver.get_screenshot_as_file('1country.png')"
   ]
  },
  {
   "attachments": {},
   "cell_type": "markdown",
   "metadata": {},
   "source": [
    "### 輸入姓名，使用`faker`套件及自訂義的`randomCountry()`來產生不同語言的姓名\n"
   ]
  },
  {
   "cell_type": "code",
   "execution_count": 4,
   "metadata": {},
   "outputs": [
    {
     "name": "stdout",
     "output_type": "stream",
     "text": [
      "Edwin Bruce\n"
     ]
    }
   ],
   "source": [
    "from faker import Factory\n",
    "\n",
    "faker = Factory.create('en')\n",
    "fname = faker.first_name()\n",
    "lname = faker.last_name()\n",
    "print(fname, lname)"
   ]
  },
  {
   "attachments": {},
   "cell_type": "markdown",
   "metadata": {},
   "source": [
    "### 還可以輸入其它國家的名字，自定義一個地區代碼函數"
   ]
  },
  {
   "cell_type": "code",
   "execution_count": 5,
   "metadata": {},
   "outputs": [],
   "source": [
    "from random import randint\n",
    "def randomCountry():\n",
    "    countryCodes = [\n",
    "        \"bg_BG\",\n",
    "        \"cs_CZ\",\n",
    "        \"de_DE\",\n",
    "        \"dk_DK\",\n",
    "        \"el_GR\",\n",
    "        \"en_US\",\n",
    "        \"es_ES\",\n",
    "        \"fa_IR\",\n",
    "        \"fi_FI\",\n",
    "        \"fr_FR\",\n",
    "        \"hi_IN\",\n",
    "        \"it_IT\",\n",
    "        \"lt_LT\",\n",
    "        \"lv_LV\",\n",
    "        \"ne_NP\",\n",
    "        \"nl_NL\",\n",
    "        \"no_NO\",\n",
    "        \"pl_PL\",\n",
    "        \"pt_BR\",\n",
    "        \"pt_PT\",\n",
    "        \"sl_SI\",\n",
    "        \"sv_SE\",\n",
    "        \"tr_TR\",\n",
    "        \"ru_RU\",\n",
    "        \"ja_JP\",\n",
    "        \"ko_KR\",\n",
    "        \"zh_CN\",\n",
    "        \"zh_TW\"\n",
    "    ]\n",
    "    return countryCodes[randint(0,27)]"
   ]
  },
  {
   "attachments": {},
   "cell_type": "markdown",
   "metadata": {},
   "source": [
    "### 建立隨機中文名字"
   ]
  },
  {
   "cell_type": "code",
   "execution_count": 6,
   "metadata": {},
   "outputs": [
    {
     "name": "stdout",
     "output_type": "stream",
     "text": [
      "怡伶 田\n"
     ]
    }
   ],
   "source": [
    "# fakertw = Factory.create(randomCountry())\n",
    "fakertw = Factory.create(\"zh_TW\")\n",
    "fname = fakertw.first_name()\n",
    "lname = fakertw.last_name()\n",
    "print(fname, lname)"
   ]
  },
  {
   "attachments": {},
   "cell_type": "markdown",
   "metadata": {},
   "source": [
    "### 把中文名字填上去"
   ]
  },
  {
   "cell_type": "code",
   "execution_count": 7,
   "metadata": {},
   "outputs": [
    {
     "data": {
      "text/plain": [
       "True"
      ]
     },
     "execution_count": 7,
     "metadata": {},
     "output_type": "execute_result"
    }
   ],
   "source": [
    "fcname = driver.find_element(By.NAME, \"fcname\")\n",
    "fcname.clear()\n",
    "fcname.send_keys(lname)\n",
    "\n",
    "lcname = driver.find_element(By.NAME, \"lcname\")\n",
    "lcname.clear()\n",
    "lcname.send_keys(fname)\n",
    "\n",
    "driver.get_screenshot_as_file('2cname.png')"
   ]
  },
  {
   "attachments": {},
   "cell_type": "markdown",
   "metadata": {},
   "source": [
    "### 隨機產生英文姓名，英文姓名填上去"
   ]
  },
  {
   "cell_type": "code",
   "execution_count": 8,
   "metadata": {},
   "outputs": [
    {
     "data": {
      "text/plain": [
       "True"
      ]
     },
     "execution_count": 8,
     "metadata": {},
     "output_type": "execute_result"
    }
   ],
   "source": [
    "faker = Factory.create(\"en\")\n",
    "\n",
    "fename = driver.find_element(By.NAME, \"fename\")\n",
    "fename.clear()\n",
    "fename.send_keys(faker.first_name())\n",
    "\n",
    "lename = driver.find_element(By.NAME, \"lename\")\n",
    "lename.clear()\n",
    "lename.send_keys(faker.last_name())\n",
    "driver.get_screenshot_as_file('3ename.png')"
   ]
  },
  {
   "attachments": {},
   "cell_type": "markdown",
   "metadata": {},
   "source": [
    "### 填入生日"
   ]
  },
  {
   "cell_type": "code",
   "execution_count": 9,
   "metadata": {},
   "outputs": [
    {
     "data": {
      "text/plain": [
       "True"
      ]
     },
     "execution_count": 9,
     "metadata": {},
     "output_type": "execute_result"
    }
   ],
   "source": [
    "useryy = Select(driver.find_element(By.NAME, 'yy'))\n",
    "useryy.select_by_value(\"2016\")\n",
    "\n",
    "usermm = Select(driver.find_element(By.NAME, 'mm'))\n",
    "usermm.select_by_value(\"01\")\n",
    "\n",
    "userdd = Select(driver.find_element(By.NAME, 'dd'))\n",
    "userdd.select_by_value(\"01\")\n",
    "driver.get_screenshot_as_file('4birthday.png')"
   ]
  },
  {
   "attachments": {},
   "cell_type": "markdown",
   "metadata": {},
   "source": [
    "### 填入性別"
   ]
  },
  {
   "cell_type": "code",
   "execution_count": 10,
   "metadata": {},
   "outputs": [
    {
     "data": {
      "text/plain": [
       "True"
      ]
     },
     "execution_count": 10,
     "metadata": {},
     "output_type": "execute_result"
    }
   ],
   "source": [
    "# value=1是男生，0是女生\n",
    "usergender = driver.find_element(By.XPATH, \".//input[@type='radio' and @value='0']\")\n",
    "\n",
    "# 選完後要按下去\n",
    "usergender.click()\n",
    "\n",
    "driver.get_screenshot_as_file('5sex.png')"
   ]
  },
  {
   "attachments": {},
   "cell_type": "markdown",
   "metadata": {},
   "source": [
    "### 隨機產生學校和科系名稱，並且填入"
   ]
  },
  {
   "cell_type": "code",
   "execution_count": 11,
   "metadata": {},
   "outputs": [
    {
     "data": {
      "text/plain": [
       "True"
      ]
     },
     "execution_count": 11,
     "metadata": {},
     "output_type": "execute_result"
    }
   ],
   "source": [
    "school = driver.find_element(By.NAME, \"school\")\n",
    "school.send_keys(\"National \"+faker.country()+\" University\")\n",
    "\n",
    "department = driver.find_element(By.NAME, \"dt\")\n",
    "department.send_keys(faker.city()+\" Department\")\n",
    "driver.get_screenshot_as_file('6school.png')"
   ]
  },
  {
   "attachments": {},
   "cell_type": "markdown",
   "metadata": {},
   "source": [
    "### 網站很爛，不檢查身份證字號格式，因此就用隨機產生"
   ]
  },
  {
   "cell_type": "code",
   "execution_count": 12,
   "metadata": {},
   "outputs": [
    {
     "data": {
      "text/plain": [
       "True"
      ]
     },
     "execution_count": 12,
     "metadata": {},
     "output_type": "execute_result"
    }
   ],
   "source": [
    "import string\n",
    "\n",
    "myid = driver.find_element(By.NAME, \"id\")\n",
    "#id.send_keys(\"A123456789\")\n",
    "loginid=random.choice(string.ascii_uppercase)+str(random.randint(1,999999999)).zfill(8)\n",
    "myid.clear()\n",
    "myid.send_keys(loginid)\n",
    "driver.get_screenshot_as_file('7id.png')"
   ]
  },
  {
   "attachments": {},
   "cell_type": "markdown",
   "metadata": {},
   "source": [
    "### 隨機產生電子郵件並填入"
   ]
  },
  {
   "cell_type": "code",
   "execution_count": 13,
   "metadata": {},
   "outputs": [
    {
     "data": {
      "text/plain": [
       "True"
      ]
     },
     "execution_count": 13,
     "metadata": {},
     "output_type": "execute_result"
    }
   ],
   "source": [
    "myemail = faker.email()\n",
    "email = driver.find_element(By.NAME, \"email\")\n",
    "email.clear()\n",
    "email.send_keys(myemail)\n",
    "\n",
    "remail = driver.find_element(By.NAME, \"remail\")\n",
    "remail.clear()\n",
    "remail.send_keys(myemail)\n",
    "driver.get_screenshot_as_file('8email.png')"
   ]
  },
  {
   "attachments": {},
   "cell_type": "markdown",
   "metadata": {},
   "source": [
    "### 隨機輸入電話地址"
   ]
  },
  {
   "cell_type": "code",
   "execution_count": 14,
   "metadata": {},
   "outputs": [
    {
     "data": {
      "text/plain": [
       "True"
      ]
     },
     "execution_count": 14,
     "metadata": {},
     "output_type": "execute_result"
    }
   ],
   "source": [
    "phone = driver.find_element(By.NAME, \"phone\")\n",
    "phone.clear()\n",
    "phone.send_keys(fakertw.phone_number())\n",
    "\n",
    "driver.get_screenshot_as_file('9phone.png')\n",
    "\n",
    "address = driver.find_element(By.NAME, \"address\")\n",
    "address.clear()\n",
    "address.send_keys(fakertw.address())\n",
    "\n",
    "driver.get_screenshot_as_file('10address.png')"
   ]
  },
  {
   "attachments": {},
   "cell_type": "markdown",
   "metadata": {},
   "source": [
    "### 按下閱讀聲明的確認"
   ]
  },
  {
   "cell_type": "code",
   "execution_count": 15,
   "metadata": {},
   "outputs": [
    {
     "data": {
      "text/plain": [
       "True"
      ]
     },
     "execution_count": 15,
     "metadata": {},
     "output_type": "execute_result"
    }
   ],
   "source": [
    "confirm = driver.find_element(By.XPATH, \"//input[@name='confirm']\")\n",
    "\n",
    "confirm.click()\n",
    "# driver.execute_script(\"window.scrollTo(0, 1200)\") \n",
    "driver.get_screenshot_as_file('11confirm.png')"
   ]
  },
  {
   "attachments": {},
   "cell_type": "markdown",
   "metadata": {},
   "source": [
    "### 破解captcha\n",
    "* 先準備好可能出現的英文和數字，放在`./letters`資料夾中。\n",
    "* 將網站上的captcha圖案抓下來(使用`Image.crop`)，並且切割成一個個數字及英文\n",
    "* 將這些數字和英文，用機器學習的mean squared error方式和`./letters`的資料夾中現有的英文及數字進行比對，如果最符合，即傳回該數字或字母的檔案主檔名，即該數字或英文\n",
    "* 將組合好的captcha文字輸入網頁完成破解"
   ]
  },
  {
   "attachments": {},
   "cell_type": "markdown",
   "metadata": {},
   "source": [
    "### 先將captcha的圖檔下載回來，檔名為`number.php.png`(不行用這個，會更新captcha圖片)"
   ]
  },
  {
   "cell_type": "code",
   "execution_count": 16,
   "metadata": {},
   "outputs": [
    {
     "data": {
      "text/plain": [
       "'\\nimport urllib.request\\n\\ncaptchaimage = driver.find_element(\"xpath\", \\'//img[@id=\"chkimg\"]\\')\\nsrc = captchaimage.get_attribute(\\'src\\')\\nurllib.request.urlretrieve(src, \"number.php.png\")\\n'"
      ]
     },
     "execution_count": 16,
     "metadata": {},
     "output_type": "execute_result"
    }
   ],
   "source": [
    "'''\n",
    "import urllib.request\n",
    "\n",
    "captchaimage = driver.find_element(\"xpath\", '//img[@id=\"chkimg\"]')\n",
    "src = captchaimage.get_attribute('src')\n",
    "urllib.request.urlretrieve(src, \"number.php.png\")\n",
    "'''"
   ]
  },
  {
   "cell_type": "code",
   "execution_count": 17,
   "metadata": {},
   "outputs": [
    {
     "data": {
      "text/plain": [
       "True"
      ]
     },
     "execution_count": 17,
     "metadata": {},
     "output_type": "execute_result"
    }
   ],
   "source": [
    "captchaimage = driver.find_element(By.XPATH, '//img[@id=\"chkimg\"]')\n",
    "location = captchaimage.location\n",
    "size = captchaimage.size\n",
    "captchaimage.screenshot(\"number.php.png\")"
   ]
  },
  {
   "attachments": {
    "image.png": {
     "image/png": "[encoded data removed]"
    }
   },
   "cell_type": "markdown",
   "metadata": {},
   "source": [
    "### 破解captcha的函式`defeatCaptcha()`\n",
    "#### 主要將後面的噪音去除\n",
    "* 先將不用的邊切掉，變成`crop`\n",
    "* 將`crop`轉成`hsv`的顏色空間\n",
    "* 定義兩個黑色的上下界`lower_black`和`upper_black`。\n",
    "* 使用2x2全填1的矩陣做為核心\n",
    "* 建立一個以此上下界為主的`mask`\n",
    "* 先用`closing`將噪點去除\n",
    "* 再用`dilation`讓字型變大，接近比對的單一字\n",
    "#### 將圖切成一個個小圖\n",
    "#### 將小圖和`letter`資料中央的每一個字體小圖用`mse`方式比對，最小值即為符合\n",
    "#### 將符合的檔名(即代表該圖的值)用文字方法傳回來\n",
    "#### 最後將所有的文字放成一個字串，即為破解碼\n",
    "![image.png](attachment:image.png)\n"
   ]
  },
  {
   "cell_type": "code",
   "execution_count": 18,
   "metadata": {},
   "outputs": [],
   "source": [
    "import matplotlib.pyplot as plt\n",
    "import numpy as np\n",
    "import cv2\n",
    "import os\n",
    "\n",
    "def defeatCaptcha():\n",
    "          \n",
    "    image=cv2.imread('number.php.png')\n",
    "    \n",
    "    crop=image[20:35,50:160]\n",
    "    cv2.imwrite(\"cropped.jpg\", crop)\n",
    "    hsv=cv2.cvtColor(crop,cv2.COLOR_BGR2HSV)\n",
    "    cv2.imwrite(\"hsv.jpg\", hsv)\n",
    "    \n",
    "    lower_black=np.array([0,0,0])\n",
    "    upper_black=np.array([179,50,100])\n",
    "    kernel = np.ones((2,2),np.uint8)  \n",
    "\n",
    "    mask=cv2.inRange(hsv, lower_black, upper_black)\n",
    "    closing = cv2.morphologyEx(mask, cv2.MORPH_CLOSE, kernel)\n",
    "    dilation = cv2.dilate(closing,kernel,iterations = 1)\n",
    "    cv2.imwrite(\"closing.jpg\", closing)\n",
    "    cv2.imwrite(\"dilation.jpg\", dilation)\n",
    "        \n",
    "    j=1\n",
    "    crops={}\n",
    "    breakcode=''\n",
    "    \n",
    "    for i in range(1,7):\n",
    "        cv2.imwrite(\"crop\"+str(i)+\".png\",dilation[4:16, j:j+9])\n",
    "        crops[i]=cv2.imread(\"crop\"+str(i)+\".png\")\n",
    "        \n",
    "        breakcode+=getNumber(crops[i])\n",
    "        j=j+20\n",
    "\n",
    "    return breakcode\n",
    "    \n",
    "def mse(imageA, imageB):\n",
    "    err = np.sum((imageA.astype(\"float\") - imageB.astype(\"float\")) ** 2)\n",
    "    err /= float(imageA.shape[0] * imageA.shape[1])\n",
    "    return err\n",
    "\n",
    "\n",
    "def getNumber(pic):\n",
    "    min_a = 999999999\n",
    "    min_png= None\n",
    "    for png in os.listdir('letters'):\n",
    "        print(min_a)\n",
    "        ref = cv2.imread(\"letters/\" + png)\n",
    "        if mse(ref, pic) < min_a:\n",
    "            min_a = mse(ref, pic)\n",
    "            min_png = png\n",
    "    return min_png[0]"
   ]
  },
  {
   "attachments": {},
   "cell_type": "markdown",
   "metadata": {},
   "source": [
    "### 獲得captcha驗證碼"
   ]
  },
  {
   "cell_type": "code",
   "execution_count": 19,
   "metadata": {},
   "outputs": [
    {
     "name": "stdout",
     "output_type": "stream",
     "text": [
      "999999999\n",
      "72906.81818181818\n",
      "72906.81818181818\n",
      "72906.81818181818\n",
      "72906.81818181818\n",
      "72906.81818181818\n",
      "72906.81818181818\n",
      "72906.81818181818\n",
      "72906.81818181818\n",
      "72906.81818181818\n",
      "0.0\n",
      "0.0\n",
      "0.0\n",
      "0.0\n",
      "0.0\n",
      "0.0\n",
      "999999999\n",
      "0.0\n",
      "0.0\n",
      "0.0\n",
      "0.0\n",
      "0.0\n",
      "0.0\n",
      "0.0\n",
      "0.0\n",
      "0.0\n",
      "0.0\n",
      "0.0\n",
      "0.0\n",
      "0.0\n",
      "0.0\n",
      "0.0\n",
      "999999999\n",
      "72906.81818181818\n",
      "72906.81818181818\n",
      "72906.81818181818\n",
      "72906.81818181818\n",
      "72906.81818181818\n",
      "72906.81818181818\n",
      "72906.81818181818\n",
      "72906.81818181818\n",
      "72906.81818181818\n",
      "0.0\n",
      "0.0\n",
      "0.0\n",
      "0.0\n",
      "0.0\n",
      "0.0\n",
      "999999999\n",
      "94581.81818181818\n",
      "76847.72727272728\n",
      "70936.36363636363\n",
      "21675.0\n",
      "21675.0\n",
      "13793.181818181818\n",
      "13793.181818181818\n",
      "13793.181818181818\n",
      "13793.181818181818\n",
      "13793.181818181818\n",
      "0.0\n",
      "0.0\n",
      "0.0\n",
      "0.0\n",
      "0.0\n",
      "999999999\n",
      "112315.90909090909\n",
      "55172.72727272727\n",
      "55172.72727272727\n",
      "55172.72727272727\n",
      "55172.72727272727\n",
      "55172.72727272727\n",
      "53202.27272727273\n",
      "0.0\n",
      "0.0\n",
      "0.0\n",
      "0.0\n",
      "0.0\n",
      "0.0\n",
      "0.0\n",
      "0.0\n",
      "999999999\n",
      "100493.18181818182\n",
      "100493.18181818182\n",
      "72906.81818181818\n",
      "72906.81818181818\n",
      "72906.81818181818\n",
      "72906.81818181818\n",
      "72906.81818181818\n",
      "72906.81818181818\n",
      "72906.81818181818\n",
      "70936.36363636363\n",
      "70936.36363636363\n",
      "70936.36363636363\n",
      "70936.36363636363\n",
      "0.0\n",
      "0.0\n",
      "f1f8b7\n"
     ]
    },
    {
     "data": {
      "text/plain": [
       "<matplotlib.image.AxesImage at 0x7fc9fa29d0f0>"
      ]
     },
     "execution_count": 19,
     "metadata": {},
     "output_type": "execute_result"
    },
    {
     "data": {
      "image/png": "[encoded data removed]",
      "text/plain": [
       "<Figure size 640x480 with 1 Axes>"
      ]
     },
     "metadata": {},
     "output_type": "display_data"
    }
   ],
   "source": [
    "%matplotlib inline\n",
    "captcha = defeatCaptcha()\n",
    "print(captcha)\n",
    "img = cv2.imread(\"number.php.png\")\n",
    "plt.imshow(img, cmap='gray')"
   ]
  },
  {
   "attachments": {},
   "cell_type": "markdown",
   "metadata": {},
   "source": [
    "### 將captcha破解後的文字碼輸入"
   ]
  },
  {
   "cell_type": "code",
   "execution_count": 20,
   "metadata": {},
   "outputs": [
    {
     "data": {
      "text/plain": [
       "True"
      ]
     },
     "execution_count": 20,
     "metadata": {},
     "output_type": "execute_result"
    }
   ],
   "source": [
    "rvcode = driver.find_element(By.NAME, \"rvcode\")\n",
    "rvcode.clear()\n",
    "rvcode.send_keys(captcha)\n",
    "driver.get_screenshot_as_file('12captcha.png')"
   ]
  },
  {
   "attachments": {},
   "cell_type": "markdown",
   "metadata": {},
   "source": [
    "### 按下「確定」按鈕"
   ]
  },
  {
   "cell_type": "code",
   "execution_count": 21,
   "metadata": {},
   "outputs": [
    {
     "data": {
      "text/plain": [
       "True"
      ]
     },
     "execution_count": 21,
     "metadata": {},
     "output_type": "execute_result"
    }
   ],
   "source": [
    "import time\n",
    "mysubmit = WebDriverWait(driver, 10).until(EC.presence_of_element_located((By.ID, \"submit\")))\n",
    "mysubmit.submit()\n",
    "time.sleep(3)\n",
    "driver.get_screenshot_as_file('13done.png')"
   ]
  },
  {
   "cell_type": "code",
   "execution_count": 22,
   "metadata": {},
   "outputs": [
    {
     "name": "stdout",
     "output_type": "stream",
     "text": [
      "M149918491\n",
      "20160101\n"
     ]
    }
   ],
   "source": [
    "print(loginid)\n",
    "print(\"20160101\")"
   ]
  },
  {
   "attachments": {},
   "cell_type": "markdown",
   "metadata": {},
   "source": [
    "### 自動登入"
   ]
  },
  {
   "cell_type": "code",
   "execution_count": 23,
   "metadata": {},
   "outputs": [
    {
     "data": {
      "text/plain": [
       "True"
      ]
     },
     "execution_count": 23,
     "metadata": {},
     "output_type": "execute_result"
    }
   ],
   "source": [
    "loginurl = \"http://siliconexam.com/st-login.php\"\n",
    "driver.get(loginurl)\n",
    "login_id = driver.find_element(By.NAME, \"id\")\n",
    "login_id.clear()\n",
    "login_id.send_keys(loginid)\n",
    "\n",
    "passwd = driver.find_element(By.NAME, \"passwd\")\n",
    "passwd.clear()\n",
    "passwd.send_keys(\"20160101\")\n",
    "\n",
    "time.sleep(2)\n",
    "driver.get_screenshot_as_file('14login.png')\n",
    "driver.find_element(By.XPATH, '//input[@id=\"lsubmit\"]').click()\n",
    "time.sleep(2)\n",
    "driver.get_screenshot_as_file('15logindone.png')"
   ]
  },
  {
   "attachments": {},
   "cell_type": "markdown",
   "metadata": {},
   "source": [
    "### 上傳照片"
   ]
  },
  {
   "cell_type": "code",
   "execution_count": 24,
   "metadata": {},
   "outputs": [
    {
     "data": {
      "text/plain": [
       "True"
      ]
     },
     "execution_count": 24,
     "metadata": {},
     "output_type": "execute_result"
    }
   ],
   "source": [
    "# WebDriverWait(driver, 3).until(EC.presence_of_element_located((By.XPATH, '//a[@href=\"st-photo.php\"]'))).click()\n",
    "driver.find_element(By.XPATH, '//a[@href=\"st-photo.php\"]').click()\n",
    "time.sleep(2)\n",
    "driver.get_screenshot_as_file('16photo.png')"
   ]
  },
  {
   "cell_type": "code",
   "execution_count": null,
   "metadata": {},
   "outputs": [],
   "source": []
  },
  {
   "attachments": {},
   "cell_type": "markdown",
   "metadata": {},
   "source": [
    "### 從圖片庫中隨機選擇要上傳的照片"
   ]
  },
  {
   "cell_type": "code",
   "execution_count": 25,
   "metadata": {},
   "outputs": [
    {
     "data": {
      "text/plain": [
       "True"
      ]
     },
     "execution_count": 25,
     "metadata": {},
     "output_type": "execute_result"
    }
   ],
   "source": [
    "myphoto = '/home/must/workspace/selenium/pics/'+'images_'+str(random.randint(570,684)).zfill(3)+'.jpg'\n",
    "WebDriverWait(driver, 10).until(EC.presence_of_element_located((By.ID, \"photo\"))).send_keys(myphoto)\n",
    "time.sleep(1)\n",
    "WebDriverWait(driver, 10).until(EC.presence_of_element_located((By.XPATH, '//a[@href=\"javascript:$.colorbox.close();\"]'))).click()\n",
    "WebDriverWait(driver, 10).until(EC.presence_of_element_located((By.ID, \"submit\"))).click()\n",
    "time.sleep(1)\n",
    "driver.get_screenshot_as_file('17doneupload.png')   "
   ]
  },
  {
   "attachments": {},
   "cell_type": "markdown",
   "metadata": {},
   "source": [
    "### 關閉連線"
   ]
  },
  {
   "cell_type": "code",
   "execution_count": 26,
   "metadata": {},
   "outputs": [],
   "source": [
    "driver.close()"
   ]
  }
 ],
 "metadata": {
  "kernelspec": {
   "display_name": "selenium-strGPMzh",
   "language": "python",
   "name": "python3"
  },
  "language_info": {
   "codemirror_mode": {
    "name": "ipython",
    "version": 3
   },
   "file_extension": ".py",
   "mimetype": "text/x-python",
   "name": "python",
   "nbconvert_exporter": "python",
   "pygments_lexer": "ipython3",
   "version": "3.10.6"
  },
  "orig_nbformat": 4
 },
 "nbformat": 4,
 "nbformat_minor": 2
}
