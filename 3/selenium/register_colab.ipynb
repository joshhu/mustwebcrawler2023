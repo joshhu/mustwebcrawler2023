{
  "nbformat": 4,
  "nbformat_minor": 0,
  "metadata": {
    "colab": {
      "provenance": []
    },
    "kernelspec": {
      "name": "python3",
      "display_name": "Python 3"
    },
    "language_info": {
      "name": "python"
    }
  },
  "cells": [
    {
      "cell_type": "code",
      "execution_count": 1,
      "metadata": {
        "colab": {
          "base_uri": "https://localhost:8080/"
        },
        "id": "1VMonPRy4f6J",
        "outputId": "5aec359d-f1c9-4ca7-a8a9-737d8d2b25ff"
      },
      "outputs": [
        {
          "output_type": "stream",
          "name": "stdout",
          "text": [
            "Executing: /tmp/apt-key-gpghome.ArHLv26nu3/gpg.1.sh --keyserver keyserver.ubuntu.com --recv-keys DCC9EFBF77E11517\n",
            "gpg: key DCC9EFBF77E11517: \"Debian Stable Release Key (10/buster) <debian-release@lists.debian.org>\" not changed\n",
            "gpg: Total number processed: 1\n",
            "gpg:              unchanged: 1\n",
            "Executing: /tmp/apt-key-gpghome.7XcHXQi8wF/gpg.1.sh --keyserver keyserver.ubuntu.com --recv-keys 648ACFD622F3D138\n",
            "gpg: key DC30D7C23CBBABEE: \"Debian Archive Automatic Signing Key (10/buster) <ftpmaster@debian.org>\" not changed\n",
            "gpg: Total number processed: 1\n",
            "gpg:              unchanged: 1\n",
            "Executing: /tmp/apt-key-gpghome.UajgXMszkR/gpg.1.sh --keyserver keyserver.ubuntu.com --recv-keys 112695A0E562B32A\n",
            "gpg: key 4DFAB270CAA96DFA: \"Debian Security Archive Automatic Signing Key (10/buster) <ftpmaster@debian.org>\" not changed\n",
            "gpg: Total number processed: 1\n",
            "gpg:              unchanged: 1\n",
            "gpg: cannot open '/dev/tty': No such device or address\n",
            "Warning: apt-key output should not be parsed (stdout is not a terminal)\n",
            "gpg: [stdout]: write error: Broken pipe\n",
            "gpg: filter_flush failed on close: Broken pipe\n",
            "gpg: cannot open '/dev/tty': No such device or address\n",
            "Warning: apt-key output should not be parsed (stdout is not a terminal)\n",
            "gpg: [stdout]: write error: Broken pipe\n",
            "gpg: filter_flush failed on close: Broken pipe\n",
            "gpg: cannot open '/dev/tty': No such device or address\n",
            "Warning: apt-key output should not be parsed (stdout is not a terminal)\n",
            "gpg: [stdout]: write error: Broken pipe\n",
            "gpg: filter_flush failed on close: Broken pipe\n"
          ]
        },
        {
          "output_type": "execute_result",
          "data": {
            "text/plain": []
          },
          "metadata": {},
          "execution_count": 1
        }
      ],
      "source": [
        "%%shell\n",
        "# Ubuntu no longer distributes chromium-browser outside of snap\n",
        "#\n",
        "# Proposed solution: https://askubuntu.com/questions/1204571/how-to-install-chromium-without-snap\n",
        "\n",
        "# Add debian buster\n",
        "cat > /etc/apt/sources.list.d/debian.list <<'EOF'\n",
        "deb [arch=amd64 signed-by=/usr/share/keyrings/debian-buster.gpg] http://deb.debian.org/debian buster main\n",
        "deb [arch=amd64 signed-by=/usr/share/keyrings/debian-buster-updates.gpg] http://deb.debian.org/debian buster-updates main\n",
        "deb [arch=amd64 signed-by=/usr/share/keyrings/debian-security-buster.gpg] http://deb.debian.org/debian-security buster/updates main\n",
        "EOF\n",
        "\n",
        "# Add keys\n",
        "apt-key adv --keyserver keyserver.ubuntu.com --recv-keys DCC9EFBF77E11517\n",
        "apt-key adv --keyserver keyserver.ubuntu.com --recv-keys 648ACFD622F3D138\n",
        "apt-key adv --keyserver keyserver.ubuntu.com --recv-keys 112695A0E562B32A\n",
        "\n",
        "apt-key export 77E11517 | gpg --dearmour -o /usr/share/keyrings/debian-buster.gpg\n",
        "apt-key export 22F3D138 | gpg --dearmour -o /usr/share/keyrings/debian-buster-updates.gpg\n",
        "apt-key export E562B32A | gpg --dearmour -o /usr/share/keyrings/debian-security-buster.gpg\n",
        "\n",
        "# Prefer debian repo for chromium* packages only\n",
        "# Note the double-blank lines between entries\n",
        "cat > /etc/apt/preferences.d/chromium.pref << 'EOF'\n",
        "Package: *\n",
        "Pin: release a=eoan\n",
        "Pin-Priority: 500\n",
        "\n",
        "\n",
        "Package: *\n",
        "Pin: origin \"deb.debian.org\"\n",
        "Pin-Priority: 300\n",
        "\n",
        "\n",
        "Package: chromium*\n",
        "Pin: origin \"deb.debian.org\"\n",
        "Pin-Priority: 700\n",
        "EOF\n"
      ]
    },
    {
      "cell_type": "code",
      "source": [
        "!apt-get update\n",
        "!apt-get install chromium chromium-driver\n",
        "!pip3 install selenium\n",
        "!pip3 install fake_useragent\n",
        "!pip3 install faker\n",
        "!unzip -o letters.zip\n",
        "!unzip -o pics.zip"
      ],
      "metadata": {
        "colab": {
          "base_uri": "https://localhost:8080/"
        },
        "id": "82__uOy4UlWB",
        "outputId": "32791ffb-89c2-4eec-9bbb-24201e5f14e5"
      },
      "execution_count": 2,
      "outputs": [
        {
          "output_type": "stream",
          "name": "stdout",
          "text": [
            "\r0% [Working]\r            \rHit:1 http://deb.debian.org/debian buster InRelease\n",
            "\r0% [Connecting to archive.ubuntu.com (185.125.190.36)] [Connecting to security.\r                                                                               \rHit:2 http://deb.debian.org/debian buster-updates InRelease\n",
            "\r0% [Connecting to archive.ubuntu.com (185.125.190.36)] [Connecting to security.\r                                                                               \rHit:3 http://deb.debian.org/debian-security buster/updates InRelease\n",
            "\r0% [Connecting to archive.ubuntu.com (185.125.190.36)] [Connecting to security.\r                                                                               \rHit:4 https://developer.download.nvidia.com/compute/cuda/repos/ubuntu2004/x86_64  InRelease\n",
            "\r0% [Waiting for headers] [Waiting for headers] [Waiting for headers] [Waiting f\r                                                                               \rHit:5 https://cloud.r-project.org/bin/linux/ubuntu focal-cran40/ InRelease\n",
            "\r                                                                               \r0% [Waiting for headers] [Waiting for headers] [Waiting for headers]\r                                                                    \rGet:6 http://security.ubuntu.com/ubuntu focal-security InRelease [114 kB]\n",
            "Hit:7 http://archive.ubuntu.com/ubuntu focal InRelease\n",
            "Hit:8 http://ppa.launchpad.net/c2d4u.team/c2d4u4.0+/ubuntu focal InRelease\n",
            "Hit:9 http://archive.ubuntu.com/ubuntu focal-updates InRelease\n",
            "Get:10 http://archive.ubuntu.com/ubuntu focal-backports InRelease [108 kB]\n",
            "Hit:11 http://ppa.launchpad.net/cran/libgit2/ubuntu focal InRelease\n",
            "Hit:12 http://ppa.launchpad.net/deadsnakes/ppa/ubuntu focal InRelease\n",
            "Hit:13 http://ppa.launchpad.net/graphics-drivers/ppa/ubuntu focal InRelease\n",
            "Hit:14 http://ppa.launchpad.net/ubuntugis/ppa/ubuntu focal InRelease\n",
            "Fetched 222 kB in 2s (95.5 kB/s)\n",
            "Reading package lists... Done\n",
            "Reading package lists... Done\n",
            "Building dependency tree       \n",
            "Reading state information... Done\n",
            "chromium is already the newest version (90.0.4430.212-1~deb10u1).\n",
            "chromium-driver is already the newest version (90.0.4430.212-1~deb10u1).\n",
            "0 upgraded, 0 newly installed, 0 to remove and 32 not upgraded.\n",
            "Looking in indexes: https://pypi.org/simple, https://us-python.pkg.dev/colab-wheels/public/simple/\n",
            "Requirement already satisfied: selenium in /usr/local/lib/python3.10/dist-packages (4.9.1)\n",
            "Requirement already satisfied: urllib3[socks]<3,>=1.26 in /usr/local/lib/python3.10/dist-packages (from selenium) (1.26.15)\n",
            "Requirement already satisfied: trio~=0.17 in /usr/local/lib/python3.10/dist-packages (from selenium) (0.22.0)\n",
            "Requirement already satisfied: trio-websocket~=0.9 in /usr/local/lib/python3.10/dist-packages (from selenium) (0.10.2)\n",
            "Requirement already satisfied: certifi>=2021.10.8 in /usr/local/lib/python3.10/dist-packages (from selenium) (2022.12.7)\n",
            "Requirement already satisfied: attrs>=19.2.0 in /usr/local/lib/python3.10/dist-packages (from trio~=0.17->selenium) (23.1.0)\n",
            "Requirement already satisfied: sortedcontainers in /usr/local/lib/python3.10/dist-packages (from trio~=0.17->selenium) (2.4.0)\n",
            "Requirement already satisfied: async-generator>=1.9 in /usr/local/lib/python3.10/dist-packages (from trio~=0.17->selenium) (1.10)\n",
            "Requirement already satisfied: idna in /usr/local/lib/python3.10/dist-packages (from trio~=0.17->selenium) (3.4)\n",
            "Requirement already satisfied: outcome in /usr/local/lib/python3.10/dist-packages (from trio~=0.17->selenium) (1.2.0)\n",
            "Requirement already satisfied: sniffio in /usr/local/lib/python3.10/dist-packages (from trio~=0.17->selenium) (1.3.0)\n",
            "Requirement already satisfied: exceptiongroup>=1.0.0rc9 in /usr/local/lib/python3.10/dist-packages (from trio~=0.17->selenium) (1.1.1)\n",
            "Requirement already satisfied: wsproto>=0.14 in /usr/local/lib/python3.10/dist-packages (from trio-websocket~=0.9->selenium) (1.2.0)\n",
            "Requirement already satisfied: PySocks!=1.5.7,<2.0,>=1.5.6 in /usr/local/lib/python3.10/dist-packages (from urllib3[socks]<3,>=1.26->selenium) (1.7.1)\n",
            "Requirement already satisfied: h11<1,>=0.9.0 in /usr/local/lib/python3.10/dist-packages (from wsproto>=0.14->trio-websocket~=0.9->selenium) (0.14.0)\n",
            "Looking in indexes: https://pypi.org/simple, https://us-python.pkg.dev/colab-wheels/public/simple/\n",
            "Requirement already satisfied: fake_useragent in /usr/local/lib/python3.10/dist-packages (1.1.3)\n",
            "Looking in indexes: https://pypi.org/simple, https://us-python.pkg.dev/colab-wheels/public/simple/\n",
            "Requirement already satisfied: faker in /usr/local/lib/python3.10/dist-packages (18.9.0)\n",
            "Requirement already satisfied: python-dateutil>=2.4 in /usr/local/lib/python3.10/dist-packages (from faker) (2.8.2)\n",
            "Requirement already satisfied: six>=1.5 in /usr/local/lib/python3.10/dist-packages (from python-dateutil>=2.4->faker) (1.16.0)\n",
            "Archive:  letters.zip\n",
            "  inflating: letters/0.png           \n",
            "  inflating: letters/1.png           \n",
            "  inflating: letters/2.png           \n",
            "  inflating: letters/3.png           \n",
            "  inflating: letters/4.png           \n",
            "  inflating: letters/5.png           \n",
            "  inflating: letters/6.png           \n",
            "  inflating: letters/7.png           \n",
            "  inflating: letters/8.png           \n",
            "  inflating: letters/9.png           \n",
            "  inflating: letters/a.png           \n",
            "  inflating: letters/b.png           \n",
            "  inflating: letters/c.png           \n",
            "  inflating: letters/d.png           \n",
            "  inflating: letters/e.png           \n",
            "  inflating: letters/f.png           \n",
            "Archive:  pics.zip\n",
            "  inflating: pics/images_570.jpg     \n",
            "  inflating: pics/images_571.jpg     \n",
            "  inflating: pics/images_572.jpg     \n",
            "  inflating: pics/images_573.jpg     \n",
            "  inflating: pics/images_574.jpg     \n",
            "  inflating: pics/images_575.jpg     \n",
            "  inflating: pics/images_576.jpg     \n",
            "  inflating: pics/images_577.jpg     \n",
            "  inflating: pics/images_578.jpg     \n",
            "  inflating: pics/images_579.jpg     \n",
            "  inflating: pics/images_580.jpg     \n",
            "  inflating: pics/images_581.jpg     \n",
            "  inflating: pics/images_582.jpg     \n",
            "  inflating: pics/images_583.jpg     \n",
            "  inflating: pics/images_584.jpg     \n",
            "  inflating: pics/images_585.jpg     \n",
            "  inflating: pics/images_586.jpg     \n",
            "  inflating: pics/images_587.jpg     \n",
            "  inflating: pics/images_588.jpg     \n",
            "  inflating: pics/images_589.jpg     \n",
            "  inflating: pics/images_590.jpg     \n",
            "  inflating: pics/images_591.jpg     \n",
            "  inflating: pics/images_592.jpg     \n",
            "  inflating: pics/images_593.jpg     \n",
            "  inflating: pics/images_594.jpg     \n",
            "  inflating: pics/images_595.jpg     \n",
            "  inflating: pics/images_596.jpg     \n",
            "  inflating: pics/images_597.jpg     \n",
            "  inflating: pics/images_598.jpg     \n",
            "  inflating: pics/images_599.jpg     \n",
            "  inflating: pics/images_600.jpg     \n",
            "  inflating: pics/images_601.jpg     \n",
            "  inflating: pics/images_602.jpg     \n",
            "  inflating: pics/images_603.jpg     \n",
            "  inflating: pics/images_604.jpg     \n",
            "  inflating: pics/images_605.jpg     \n",
            "  inflating: pics/images_606.jpg     \n",
            "  inflating: pics/images_607.jpg     \n",
            "  inflating: pics/images_608.jpg     \n",
            "  inflating: pics/images_609.jpg     \n",
            "  inflating: pics/images_610.jpg     \n",
            "  inflating: pics/images_611.jpg     \n",
            "  inflating: pics/images_612.jpg     \n",
            "  inflating: pics/images_613.jpg     \n",
            "  inflating: pics/images_614.jpg     \n",
            "  inflating: pics/images_615.jpg     \n",
            "  inflating: pics/images_616.jpg     \n",
            "  inflating: pics/images_617.jpg     \n",
            "  inflating: pics/images_618.jpg     \n",
            "  inflating: pics/images_619.jpg     \n",
            "  inflating: pics/images_620.jpg     \n",
            "  inflating: pics/images_621.jpg     \n",
            "  inflating: pics/images_622.jpg     \n",
            "  inflating: pics/images_623.jpg     \n",
            "  inflating: pics/images_624.jpg     \n",
            "  inflating: pics/images_625.jpg     \n",
            "  inflating: pics/images_626.jpg     \n",
            "  inflating: pics/images_627.jpg     \n",
            "  inflating: pics/images_628.jpg     \n",
            "  inflating: pics/images_629.jpg     \n",
            "  inflating: pics/images_630.jpg     \n",
            "  inflating: pics/images_631.jpg     \n",
            "  inflating: pics/images_632.jpg     \n",
            "  inflating: pics/images_633.jpg     \n",
            "  inflating: pics/images_634.jpg     \n",
            "  inflating: pics/images_635.jpg     \n",
            "  inflating: pics/images_636.jpg     \n",
            "  inflating: pics/images_637.jpg     \n",
            "  inflating: pics/images_638.jpg     \n",
            "  inflating: pics/images_639.jpg     \n",
            "  inflating: pics/images_640.jpg     \n",
            "  inflating: pics/images_641.jpg     \n",
            "  inflating: pics/images_642.jpg     \n",
            "  inflating: pics/images_643.jpg     \n",
            "  inflating: pics/images_644.jpg     \n",
            "  inflating: pics/images_645.jpg     \n",
            "  inflating: pics/images_646.jpg     \n",
            "  inflating: pics/images_647.jpg     \n",
            "  inflating: pics/images_648.jpg     \n",
            "  inflating: pics/images_649.jpg     \n",
            "  inflating: pics/images_650.jpg     \n",
            "  inflating: pics/images_651.jpg     \n",
            "  inflating: pics/images_652.jpg     \n",
            "  inflating: pics/images_653.jpg     \n",
            "  inflating: pics/images_654.jpg     \n",
            "  inflating: pics/images_655.jpg     \n",
            "  inflating: pics/images_656.jpg     \n",
            "  inflating: pics/images_657.jpg     \n",
            "  inflating: pics/images_658.jpg     \n",
            "  inflating: pics/images_659.jpg     \n",
            "  inflating: pics/images_660.jpg     \n",
            "  inflating: pics/images_661.jpg     \n",
            "  inflating: pics/images_662.jpg     \n",
            "  inflating: pics/images_663.jpg     \n",
            "  inflating: pics/images_664.jpg     \n",
            "  inflating: pics/images_665.jpg     \n",
            "  inflating: pics/images_666.jpg     \n",
            "  inflating: pics/images_667.jpg     \n",
            "  inflating: pics/images_668.jpg     \n",
            "  inflating: pics/images_669.jpg     \n",
            "  inflating: pics/images_670.jpg     \n",
            "  inflating: pics/images_671.jpg     \n",
            "  inflating: pics/images_672.jpg     \n",
            "  inflating: pics/images_673.jpg     \n",
            "  inflating: pics/images_674.jpg     \n",
            "  inflating: pics/images_675.jpg     \n",
            "  inflating: pics/images_676.jpg     \n",
            "  inflating: pics/images_677.jpg     \n",
            "  inflating: pics/images_678.jpg     \n",
            "  inflating: pics/images_679.jpg     \n",
            "  inflating: pics/images_680.jpg     \n",
            "  inflating: pics/images_681.jpg     \n",
            "  inflating: pics/images_682.jpg     \n",
            "  inflating: pics/images_683.jpg     \n",
            "  inflating: pics/images_684.jpg     \n"
          ]
        }
      ]
    },
    {
      "cell_type": "code",
      "source": [
        "from selenium import webdriver\n",
        "from selenium.webdriver.chrome.options import Options\n",
        "from fake_useragent import UserAgent\n",
        "import time\n",
        "\n",
        "options = Options()\n",
        "\n",
        "ua = UserAgent()\n",
        "userAgent = ua.random\n",
        "\n",
        "print(userAgent)\n",
        "\n",
        "options.add_argument(f'user-agent={userAgent}')\n",
        "options.add_argument(\"--headless\")\n",
        "options.add_argument(\"--no-sandbox\")\n",
        "driver = webdriver.Chrome(\"chromedriver\", options=options)\n",
        "url = 'http://siliconexam.com/st-register.php'\n",
        "driver.get(url)\n",
        "time.sleep(1)\n",
        "driver.get_screenshot_as_file('0driver.png')"
      ],
      "metadata": {
        "colab": {
          "base_uri": "https://localhost:8080/"
        },
        "id": "zMY83ivH4_Tc",
        "outputId": "1127c8bb-f505-453d-bdfe-2968dcea6d0c"
      },
      "execution_count": 7,
      "outputs": [
        {
          "output_type": "stream",
          "name": "stdout",
          "text": [
            "Mozilla/5.0 (X11;  Ubuntu; Linux i686; rv:52.0) Gecko/20100101 Firefox/52.0\n"
          ]
        },
        {
          "output_type": "execute_result",
          "data": {
            "text/plain": [
              "True"
            ]
          },
          "metadata": {},
          "execution_count": 7
        }
      ]
    },
    {
      "cell_type": "code",
      "source": [
        "from selenium.webdriver.support.ui import Select\n",
        "import random\n",
        "\n",
        "country_id = Select(driver.find_element(\"name\", 'country_id'))\n",
        "country_id.select_by_value(str(random.randint(1,233)))\n",
        "driver.get_screenshot_as_file('1country.png')"
      ],
      "metadata": {
        "colab": {
          "base_uri": "https://localhost:8080/"
        },
        "id": "A3nt3b1WVU7r",
        "outputId": "a836f41e-49ac-40d0-dffd-4cbc39023f50"
      },
      "execution_count": 8,
      "outputs": [
        {
          "output_type": "execute_result",
          "data": {
            "text/plain": [
              "True"
            ]
          },
          "metadata": {},
          "execution_count": 8
        }
      ]
    },
    {
      "cell_type": "code",
      "source": [
        "from faker import Factory\n",
        "\n",
        "faker = Factory.create('en')\n",
        "fname = faker.first_name()\n",
        "lname = faker.last_name()\n",
        "print(fname, lname)"
      ],
      "metadata": {
        "colab": {
          "base_uri": "https://localhost:8080/"
        },
        "id": "H-rDcTThVgpk",
        "outputId": "676f7a3f-e5d5-42b8-990b-bd03824484cb"
      },
      "execution_count": 9,
      "outputs": [
        {
          "output_type": "stream",
          "name": "stdout",
          "text": [
            "Glenda Martin\n"
          ]
        }
      ]
    },
    {
      "cell_type": "code",
      "source": [
        "fakertw = Factory.create(\"zh_TW\")\n",
        "fname = fakertw.first_name()\n",
        "lname = fakertw.last_name()\n",
        "print(fname, lname)"
      ],
      "metadata": {
        "colab": {
          "base_uri": "https://localhost:8080/"
        },
        "id": "fSJwmhb2WZhl",
        "outputId": "6e0bc0a1-89ab-403d-f3f5-9f230c6eb81e"
      },
      "execution_count": 10,
      "outputs": [
        {
          "output_type": "stream",
          "name": "stdout",
          "text": [
            "雅惠 沈\n"
          ]
        }
      ]
    },
    {
      "cell_type": "code",
      "source": [
        "fcname = driver.find_element(\"name\", \"fcname\")\n",
        "fcname.clear()\n",
        "fcname.send_keys(lname)\n",
        "\n",
        "lcname = driver.find_element(\"name\", \"lcname\")\n",
        "lcname.clear()\n",
        "lcname.send_keys(fname)\n",
        "\n",
        "driver.get_screenshot_as_file('2cname.png')"
      ],
      "metadata": {
        "colab": {
          "base_uri": "https://localhost:8080/"
        },
        "id": "UK18eUxBWdXo",
        "outputId": "da5ef452-3044-4c1e-8242-9a8ba0a61fef"
      },
      "execution_count": 11,
      "outputs": [
        {
          "output_type": "execute_result",
          "data": {
            "text/plain": [
              "True"
            ]
          },
          "metadata": {},
          "execution_count": 11
        }
      ]
    },
    {
      "cell_type": "code",
      "source": [
        "faker = Factory.create(\"en\")\n",
        "\n",
        "fename = driver.find_element(\"name\", \"fename\")\n",
        "fename.clear()\n",
        "fename.send_keys(faker.first_name())\n",
        "\n",
        "lename = driver.find_element(\"name\", \"lename\")\n",
        "lename.clear()\n",
        "lename.send_keys(faker.last_name())\n",
        "driver.get_screenshot_as_file('3ename.png')"
      ],
      "metadata": {
        "colab": {
          "base_uri": "https://localhost:8080/"
        },
        "id": "B7WtjVvLWi-q",
        "outputId": "c5d330e9-0871-4336-be58-db664c4765c1"
      },
      "execution_count": 12,
      "outputs": [
        {
          "output_type": "execute_result",
          "data": {
            "text/plain": [
              "True"
            ]
          },
          "metadata": {},
          "execution_count": 12
        }
      ]
    },
    {
      "cell_type": "code",
      "source": [
        "useryy = Select(driver.find_element(\"name\", 'yy'))\n",
        "useryy.select_by_value(\"2016\")\n",
        "\n",
        "usermm = Select(driver.find_element(\"name\", 'mm'))\n",
        "usermm.select_by_value(\"01\")\n",
        "\n",
        "userdd = Select(driver.find_element(\"name\", 'dd'))\n",
        "userdd.select_by_value(\"01\")\n",
        "driver.get_screenshot_as_file('4birthday.png')"
      ],
      "metadata": {
        "colab": {
          "base_uri": "https://localhost:8080/"
        },
        "id": "NSOtiCVzWlo-",
        "outputId": "90bd9bdf-8094-4b51-9639-1d7ea8b3a26e"
      },
      "execution_count": 13,
      "outputs": [
        {
          "output_type": "execute_result",
          "data": {
            "text/plain": [
              "True"
            ]
          },
          "metadata": {},
          "execution_count": 13
        }
      ]
    },
    {
      "cell_type": "code",
      "source": [
        "# value=1是男生，0是女生\n",
        "usergender = driver.find_element(\"xpath\", \".//input[@type='radio' and @value='0']\")\n",
        "\n",
        "# 選完後要按下去\n",
        "usergender.click()\n",
        "\n",
        "driver.get_screenshot_as_file('5sex.png')"
      ],
      "metadata": {
        "colab": {
          "base_uri": "https://localhost:8080/"
        },
        "id": "0V5CJLc8Woei",
        "outputId": "82c1025b-1666-42d0-b849-e849c7f2b230"
      },
      "execution_count": 14,
      "outputs": [
        {
          "output_type": "execute_result",
          "data": {
            "text/plain": [
              "True"
            ]
          },
          "metadata": {},
          "execution_count": 14
        }
      ]
    },
    {
      "cell_type": "code",
      "source": [
        "school = driver.find_element(\"name\", \"school\")\n",
        "school.send_keys(\"National \"+faker.country()+\" University\")\n",
        "\n",
        "department = driver.find_element(\"name\", \"dt\")\n",
        "department.send_keys(faker.city()+\" Department\")\n",
        "driver.get_screenshot_as_file('6school.png')"
      ],
      "metadata": {
        "colab": {
          "base_uri": "https://localhost:8080/"
        },
        "id": "a4oSut-lWsCq",
        "outputId": "c5bab81d-03d4-4086-f9b3-cea45edd9bdf"
      },
      "execution_count": 15,
      "outputs": [
        {
          "output_type": "execute_result",
          "data": {
            "text/plain": [
              "True"
            ]
          },
          "metadata": {},
          "execution_count": 15
        }
      ]
    },
    {
      "cell_type": "code",
      "source": [
        "import string\n",
        "\n",
        "myid = driver.find_element(\"name\", \"id\")\n",
        "#id.send_keys(\"A123456789\")\n",
        "loginid=random.choice(string.ascii_uppercase)+str(random.randint(1,999999999)).zfill(8)\n",
        "myid.clear()\n",
        "myid.send_keys(loginid)\n",
        "driver.get_screenshot_as_file('7id.png')"
      ],
      "metadata": {
        "colab": {
          "base_uri": "https://localhost:8080/"
        },
        "id": "mvpAZHyqWwLG",
        "outputId": "83927155-ab86-4ddb-f28f-bb716b3e8b22"
      },
      "execution_count": 16,
      "outputs": [
        {
          "output_type": "execute_result",
          "data": {
            "text/plain": [
              "True"
            ]
          },
          "metadata": {},
          "execution_count": 16
        }
      ]
    },
    {
      "cell_type": "code",
      "source": [
        "myemail = faker.email()\n",
        "email = driver.find_element(\"name\", \"email\")\n",
        "email.clear()\n",
        "email.send_keys(myemail)\n",
        "\n",
        "remail = driver.find_element(\"name\", \"remail\")\n",
        "remail.clear()\n",
        "remail.send_keys(myemail)\n",
        "driver.get_screenshot_as_file('8email.png')"
      ],
      "metadata": {
        "colab": {
          "base_uri": "https://localhost:8080/"
        },
        "id": "oigVo0a3WzQy",
        "outputId": "9ab26786-205a-4a57-de8c-dd109d8a96a1"
      },
      "execution_count": 17,
      "outputs": [
        {
          "output_type": "execute_result",
          "data": {
            "text/plain": [
              "True"
            ]
          },
          "metadata": {},
          "execution_count": 17
        }
      ]
    },
    {
      "cell_type": "code",
      "source": [
        "phone = driver.find_element(\"name\", \"phone\")\n",
        "phone.clear()\n",
        "phone.send_keys(fakertw.phone_number())\n",
        "\n",
        "driver.get_screenshot_as_file('9phone.png')\n",
        "\n",
        "address = driver.find_element(\"name\", \"address\")\n",
        "address.clear()\n",
        "address.send_keys(fakertw.address())\n",
        "\n",
        "driver.get_screenshot_as_file('10address.png')"
      ],
      "metadata": {
        "id": "m29ZN5jyW2B-",
        "outputId": "602c93d2-411e-4bdd-a122-8e1d967aba33",
        "colab": {
          "base_uri": "https://localhost:8080/"
        }
      },
      "execution_count": 18,
      "outputs": [
        {
          "output_type": "execute_result",
          "data": {
            "text/plain": [
              "True"
            ]
          },
          "metadata": {},
          "execution_count": 18
        }
      ]
    },
    {
      "cell_type": "code",
      "source": [
        "confirm = driver.find_element(\"xpath\", \"//input[@name='confirm']\")\n",
        "\n",
        "confirm.click()\n",
        "# driver.execute_script(\"window.scrollTo(0, 1200)\") \n",
        "driver.get_screenshot_as_file('11confirm.png')"
      ],
      "metadata": {
        "id": "186qPbwoW5KF",
        "outputId": "ccb974f3-4455-4e0f-ed25-d391f5b4f58a",
        "colab": {
          "base_uri": "https://localhost:8080/"
        }
      },
      "execution_count": 19,
      "outputs": [
        {
          "output_type": "execute_result",
          "data": {
            "text/plain": [
              "True"
            ]
          },
          "metadata": {},
          "execution_count": 19
        }
      ]
    },
    {
      "cell_type": "code",
      "source": [
        "captchaimage = driver.find_element(\"xpath\", '//img[@id=\"chkimg\"]')\n",
        "location = captchaimage.location\n",
        "size = captchaimage.size\n",
        "captchaimage.screenshot(\"number.php.png\")"
      ],
      "metadata": {
        "colab": {
          "base_uri": "https://localhost:8080/"
        },
        "id": "FFBkls-PXQo8",
        "outputId": "5f5030c2-3ea1-4806-ab2a-6a76b2b2c3ad"
      },
      "execution_count": 20,
      "outputs": [
        {
          "output_type": "execute_result",
          "data": {
            "text/plain": [
              "True"
            ]
          },
          "metadata": {},
          "execution_count": 20
        }
      ]
    },
    {
      "cell_type": "code",
      "source": [
        "import matplotlib.pyplot as plt\n",
        "import numpy as np\n",
        "import cv2\n",
        "import os\n",
        "%matplotlib inline\n",
        "\n",
        "def defeatCaptcha():\n",
        "          \n",
        "    image=cv2.imread('number.php.png')\n",
        "    \n",
        "    crop=image[20:35,50:160]\n",
        "    cv2.imwrite(\"cropped.jpg\", crop)\n",
        "    hsv=cv2.cvtColor(crop,cv2.COLOR_BGR2HSV)\n",
        "    cv2.imwrite(\"hsv.jpg\", hsv)\n",
        "    \n",
        "    lower_black=np.array([0,0,0])\n",
        "    upper_black=np.array([179,50,100])\n",
        "    kernel = np.ones((2,2),np.uint8)  \n",
        "\n",
        "    mask=cv2.inRange(hsv, lower_black, upper_black)\n",
        "    closing = cv2.morphologyEx(mask, cv2.MORPH_CLOSE, kernel)\n",
        "    dilation = cv2.dilate(closing,kernel,iterations = 1)\n",
        "    cv2.imwrite(\"closing.jpg\", closing)\n",
        "    cv2.imwrite(\"dilation.jpg\", dilation)\n",
        "        \n",
        "    j=1\n",
        "    crops={}\n",
        "    breakcode=''\n",
        "    \n",
        "    for i in range(1,7):\n",
        "        cv2.imwrite(\"crop\"+str(i)+\".png\",dilation[4:16, j:j+9])\n",
        "        crops[i]=cv2.imread(\"crop\"+str(i)+\".png\")\n",
        "        \n",
        "        breakcode+=getNumber(crops[i])\n",
        "        j=j+20\n",
        "\n",
        "    return breakcode\n",
        "    \n",
        "def mse(imageA, imageB):\n",
        "    err = np.sum((imageA.astype(\"float\") - imageB.astype(\"float\")) ** 2)\n",
        "    err /= float(imageA.shape[0] * imageA.shape[1])\n",
        "    return err\n",
        "\n",
        "\n",
        "def getNumber(pic):\n",
        "    min_a = 999999999\n",
        "    min_png= None\n",
        "    for png in os.listdir('letters'):\n",
        "        ref = cv2.imread(\"letters/\" + png)\n",
        "        print(min_a)\n",
        "        if mse(ref, pic) < min_a:\n",
        "            min_a = mse(ref, pic)\n",
        "            min_png = png\n",
        "    return min_png[0]"
      ],
      "metadata": {
        "id": "bxCRG9EVYDsj"
      },
      "execution_count": 35,
      "outputs": []
    },
    {
      "cell_type": "code",
      "source": [
        "%matplotlib inline\n",
        "captcha = defeatCaptcha()\n",
        "print(captcha)\n",
        "img = cv2.imread(\"number.php.png\")\n",
        "plt.imshow(img, cmap='gray')"
      ],
      "metadata": {
        "colab": {
          "base_uri": "https://localhost:8080/",
          "height": 1000
        },
        "id": "F4wgz93vYHO9",
        "outputId": "f10d382b-1833-4d6f-8aae-e88c443d43b3"
      },
      "execution_count": 36,
      "outputs": [
        {
          "output_type": "stream",
          "name": "stdout",
          "text": [
            "999999999\n",
            "98522.72727272728\n",
            "72906.81818181818\n",
            "72906.81818181818\n",
            "72906.81818181818\n",
            "72906.81818181818\n",
            "0.0\n",
            "0.0\n",
            "0.0\n",
            "0.0\n",
            "0.0\n",
            "0.0\n",
            "0.0\n",
            "0.0\n",
            "0.0\n",
            "0.0\n",
            "999999999\n",
            "55172.72727272727\n",
            "55172.72727272727\n",
            "55172.72727272727\n",
            "55172.72727272727\n",
            "55172.72727272727\n",
            "55172.72727272727\n",
            "55172.72727272727\n",
            "55172.72727272727\n",
            "55172.72727272727\n",
            "55172.72727272727\n",
            "55172.72727272727\n",
            "55172.72727272727\n",
            "55172.72727272727\n",
            "55172.72727272727\n",
            "0.0\n",
            "999999999\n",
            "82759.09090909091\n",
            "82759.09090909091\n",
            "70936.36363636363\n",
            "47290.90909090909\n",
            "47290.90909090909\n",
            "47290.90909090909\n",
            "47290.90909090909\n",
            "21675.0\n",
            "21675.0\n",
            "21675.0\n",
            "21675.0\n",
            "21675.0\n",
            "0.0\n",
            "0.0\n",
            "0.0\n",
            "999999999\n",
            "82759.09090909091\n",
            "82759.09090909091\n",
            "70936.36363636363\n",
            "47290.90909090909\n",
            "47290.90909090909\n",
            "47290.90909090909\n",
            "47290.90909090909\n",
            "21675.0\n",
            "21675.0\n",
            "21675.0\n",
            "21675.0\n",
            "21675.0\n",
            "0.0\n",
            "0.0\n",
            "0.0\n",
            "999999999\n",
            "47290.90909090909\n",
            "47290.90909090909\n",
            "47290.90909090909\n",
            "31527.272727272728\n",
            "31527.272727272728\n",
            "31527.272727272728\n",
            "31527.272727272728\n",
            "31527.272727272728\n",
            "0.0\n",
            "0.0\n",
            "0.0\n",
            "0.0\n",
            "0.0\n",
            "0.0\n",
            "0.0\n",
            "999999999\n",
            "98522.72727272728\n",
            "72906.81818181818\n",
            "72906.81818181818\n",
            "72906.81818181818\n",
            "72906.81818181818\n",
            "0.0\n",
            "0.0\n",
            "0.0\n",
            "0.0\n",
            "0.0\n",
            "0.0\n",
            "0.0\n",
            "0.0\n",
            "0.0\n",
            "0.0\n",
            "f499bf\n"
          ]
        },
        {
          "output_type": "execute_result",
          "data": {
            "text/plain": [
              "<matplotlib.image.AxesImage at 0x7f1b5531d1b0>"
            ]
          },
          "metadata": {},
          "execution_count": 36
        },
        {
          "output_type": "display_data",
          "data": {
            "text/plain": [
              "<Figure size 640x480 with 1 Axes>"
            ],
            "image/png": "[encoded data removed]"
          },
          "metadata": {}
        }
      ]
    },
    {
      "cell_type": "code",
      "source": [
        "rvcode = driver.find_element(\"name\", \"rvcode\")\n",
        "rvcode.clear()\n",
        "rvcode.send_keys(captcha)\n",
        "driver.get_screenshot_as_file('12captcha.png')"
      ],
      "metadata": {
        "colab": {
          "base_uri": "https://localhost:8080/"
        },
        "id": "Ovm6ZkXsYKtW",
        "outputId": "47016ae8-b3ed-4ce3-d855-19b8f0a5b984"
      },
      "execution_count": 23,
      "outputs": [
        {
          "output_type": "execute_result",
          "data": {
            "text/plain": [
              "True"
            ]
          },
          "metadata": {},
          "execution_count": 23
        }
      ]
    },
    {
      "cell_type": "code",
      "source": [
        "import time\n",
        "from selenium.webdriver.support.ui import WebDriverWait\n",
        "from selenium.webdriver.support import expected_conditions as EC\n",
        "from selenium.webdriver.common.by import By\n",
        "\n",
        "mysubmit = WebDriverWait(driver, 10).until(EC.presence_of_element_located((By.ID, \"submit\")))\n",
        "mysubmit.submit()\n",
        "time.sleep(3)\n",
        "driver.get_screenshot_as_file('13done.png')"
      ],
      "metadata": {
        "colab": {
          "base_uri": "https://localhost:8080/"
        },
        "id": "7-CFGSrXYnw3",
        "outputId": "770899c0-8b5c-4034-d7b4-da0bf6aa8a59"
      },
      "execution_count": 24,
      "outputs": [
        {
          "output_type": "execute_result",
          "data": {
            "text/plain": [
              "True"
            ]
          },
          "metadata": {},
          "execution_count": 24
        }
      ]
    },
    {
      "cell_type": "code",
      "source": [
        "print(loginid)\n",
        "print(\"20160101\")"
      ],
      "metadata": {
        "colab": {
          "base_uri": "https://localhost:8080/"
        },
        "id": "8QxairJiZA-I",
        "outputId": "764578ad-d3c6-4cc3-bca5-6f2bf8a7efa8"
      },
      "execution_count": 25,
      "outputs": [
        {
          "output_type": "stream",
          "name": "stdout",
          "text": [
            "Y849046202\n",
            "20160101\n"
          ]
        }
      ]
    },
    {
      "cell_type": "code",
      "source": [
        "loginurl = \"http://siliconexam.com/st-login.php\"\n",
        "driver.get(loginurl)\n",
        "login_id = driver.find_element(\"name\", \"id\")\n",
        "login_id.clear()\n",
        "login_id.send_keys(loginid)\n",
        "\n",
        "passwd = driver.find_element(\"name\", \"passwd\")\n",
        "passwd.clear()\n",
        "passwd.send_keys(\"20160101\")\n",
        "\n",
        "time.sleep(2)\n",
        "driver.get_screenshot_as_file('14login.png')\n",
        "driver.find_element('xpath', '//input[@id=\"lsubmit\"]').click()\n",
        "time.sleep(2)\n",
        "driver.get_screenshot_as_file('15logindone.png')"
      ],
      "metadata": {
        "colab": {
          "base_uri": "https://localhost:8080/"
        },
        "id": "YrNTHRXlZHPF",
        "outputId": "b19596ba-bae5-40f8-b352-1b63f0362693"
      },
      "execution_count": 26,
      "outputs": [
        {
          "output_type": "execute_result",
          "data": {
            "text/plain": [
              "True"
            ]
          },
          "metadata": {},
          "execution_count": 26
        }
      ]
    },
    {
      "cell_type": "code",
      "source": [
        "# WebDriverWait(driver, 3).until(EC.presence_of_element_located((By.XPATH, '//a[@href=\"st-photo.php\"]'))).click()\n",
        "driver.find_element('xpath', '//a[@href=\"st-photo.php\"]').click()\n",
        "time.sleep(2)\n",
        "driver.get_screenshot_as_file('16photo.png')"
      ],
      "metadata": {
        "colab": {
          "base_uri": "https://localhost:8080/"
        },
        "id": "u7PtcL8rZSQL",
        "outputId": "2a56eab1-917b-4b6d-ccb5-86daac7c78cf"
      },
      "execution_count": 27,
      "outputs": [
        {
          "output_type": "execute_result",
          "data": {
            "text/plain": [
              "True"
            ]
          },
          "metadata": {},
          "execution_count": 27
        }
      ]
    },
    {
      "cell_type": "code",
      "source": [
        "myphoto = '/content/pics/'+'images_'+str(random.randint(570,684)).zfill(3)+'.jpg'\n",
        "WebDriverWait(driver, 10).until(EC.presence_of_element_located((By.ID, \"photo\"))).send_keys(myphoto)\n",
        "time.sleep(1)\n",
        "WebDriverWait(driver, 10).until(EC.presence_of_element_located((By.XPATH, '//a[@href=\"javascript:$.colorbox.close();\"]'))).click()\n",
        "WebDriverWait(driver, 10).until(EC.presence_of_element_located((By.ID, \"submit\"))).click()\n",
        "time.sleep(1)\n",
        "driver.get_screenshot_as_file('17doneupload.png')   "
      ],
      "metadata": {
        "colab": {
          "base_uri": "https://localhost:8080/"
        },
        "id": "VvYgMMw8ZVw_",
        "outputId": "d26e5ac7-a7d8-4071-f0f1-0a9847c2d0cb"
      },
      "execution_count": 28,
      "outputs": [
        {
          "output_type": "execute_result",
          "data": {
            "text/plain": [
              "True"
            ]
          },
          "metadata": {},
          "execution_count": 28
        }
      ]
    },
    {
      "cell_type": "code",
      "source": [
        "driver.close()"
      ],
      "metadata": {
        "id": "5LiJDSIXZ44_"
      },
      "execution_count": 29,
      "outputs": []
    }
  ]
}