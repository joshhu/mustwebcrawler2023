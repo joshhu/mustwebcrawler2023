{
 "cells": [
  {
   "cell_type": "code",
   "execution_count": 1,
   "metadata": {},
   "outputs": [
    {
     "name": "stdout",
     "output_type": "stream",
     "text": [
      "200\n"
     ]
    }
   ],
   "source": [
    "import requests\n",
    "from lxml import etree\n",
    "# 請求並接收\n",
    "url = \"https://ithelp.ithome.com.tw/\"\n",
    "response = requests.get(url,  headers={\"user-agent\":\"Mozilla/5.0 (Macintosh; Intel Mac OS X 10_15_7) AppleWebKit/537.36 (KHTML, like Gecko) Chrome/105.0.0.0 Safari/537.36\"})\n",
    "# response.status_code 回傳狀態 200,404,...\n",
    "# response.content 回傳內容編碼 (純二進制)\n",
    "# response.text 回傳Unicode型數據\n",
    "# 解析內容 (轉為string)\n",
    "content = response.content.decode()\n",
    "# 把string轉為hmtl node tree，回傳根節點\n",
    "html = etree.HTML(content)\n",
    "print(response.status_code)"
   ]
  },
  {
   "attachments": {},
   "cell_type": "markdown",
   "metadata": {},
   "source": [
    "### 抓所有的超連結"
   ]
  },
  {
   "cell_type": "code",
   "execution_count": 2,
   "metadata": {},
   "outputs": [
    {
     "name": "stdout",
     "output_type": "stream",
     "text": [
      "['/', '/', 'https://ithelp.ithome.com.tw/questions', 'https://ithelp.ithome.com.tw/articles?tab=tech', 'https://ithelp.ithome.com.tw/articles?tab=job', 'https://ithelp.ithome.com.tw/tags', 'https://ithelp.ithome.com.tw/talks', '/2022ironman?utm_source=ithelp&utm_medium=navbar&utm_campaign=ironman14', 'https://ithelp.ithome.com.tw/users/login', 'https://ithelp.ithome.com.tw/rss/questions', 'https://ithelp.ithome.com.tw', 'https://ithelp.ithome.com.tw?tab=hot', 'https://ithelp.ithome.com.tw?tab=solved', 'https://ithelp.ithome.com.tw/questions/10213038', 'https://ithelp.ithome.com.tw/questions/10213038', 'https://ithelp.ithome.com.tw/questions/10213038', 'https://ithelp.ithome.com.tw/questions/10213038', 'https://ithelp.ithome.com.tw/tags/questions/%23%E7%B6%B2%E8%B7%AF%E8%A8%AD%E5%AE%9A', 'https://ithelp.ithome.com.tw/tags/questions/%23mail%20server', 'https://ithelp.ithome.com.tw/tags/questions/%23%E9%80%A3%E7%B7%9A', 'https://ithelp.ithome.com.tw/users/20006813', 'https://ithelp.ithome.com.tw/questions/10213037', 'https://ithelp.ithome.com.tw/questions/10213037', 'https://ithelp.ithome.com.tw/questions/10213037', 'https://ithelp.ithome.com.tw/questions/10213037', 'https://ithelp.ithome.com.tw/tags/questions/ossim', 'https://ithelp.ithome.com.tw/tags/questions/%E7%84%A1%E6%B3%95%E5%AE%89%E8%A3%9D', 'https://ithelp.ithome.com.tw/users/20002331', 'https://ithelp.ithome.com.tw/questions/10213036', 'https://ithelp.ithome.com.tw/questions/10213036', 'https://ithelp.ithome.com.tw/questions/10213036', 'https://ithelp.ithome.com.tw/questions/10213036', 'https://ithelp.ithome.com.tw/tags/questions/network', 'https://ithelp.ithome.com.tw/tags/questions/internet', 'https://ithelp.ithome.com.tw/users/20109961', 'https://ithelp.ithome.com.tw/questions/10213035', 'https://ithelp.ithome.com.tw/questions/10213035', 'https://ithelp.ithome.com.tw/questions/10213035', 'https://ithelp.ithome.com.tw/questions/10213035', 'https://ithelp.ithome.com.tw/tags/questions/webpage', 'https://ithelp.ithome.com.tw/tags/questions/port', 'https://ithelp.ithome.com.tw/users/20148043', 'https://ithelp.ithome.com.tw/questions/10213034', 'https://ithelp.ithome.com.tw/questions/10213034', 'https://ithelp.ithome.com.tw/questions/10213034', 'https://ithelp.ithome.com.tw/questions/10213034', 'https://ithelp.ithome.com.tw/tags/questions/c%23', 'https://ithelp.ithome.com.tw/tags/questions/linq', 'https://ithelp.ithome.com.tw/tags/questions/vsto', 'https://ithelp.ithome.com.tw/users/20117309', 'https://ithelp.ithome.com.tw/questions/10213033', 'https://ithelp.ithome.com.tw/questions/10213033', 'https://ithelp.ithome.com.tw/questions/10213033', 'https://ithelp.ithome.com.tw/questions/10213033', 'https://ithelp.ithome.com.tw/tags/questions/program%20files', 'https://ithelp.ithome.com.tw/tags/questions/office', 'https://ithelp.ithome.com.tw/users/20132973', 'https://ithelp.ithome.com.tw/questions/10213032', 'https://ithelp.ithome.com.tw/questions/10213032', 'https://ithelp.ithome.com.tw/questions/10213032', 'https://ithelp.ithome.com.tw/questions/10213032', 'https://ithelp.ithome.com.tw/tags/questions/%E7%B6%B2%E9%A0%81%E9%87%8D%E6%96%B0%E6%95%B4%E7%90%86', 'https://ithelp.ithome.com.tw/tags/questions/%E7%A8%8B%E5%BC%8F%E8%A8%AD%E8%A8%88', 'https://ithelp.ithome.com.tw/users/20136196', 'https://ithelp.ithome.com.tw/questions/10213031', 'https://ithelp.ithome.com.tw/questions/10213031', 'https://ithelp.ithome.com.tw/questions/10213031', 'https://ithelp.ithome.com.tw/questions/10213031', 'https://ithelp.ithome.com.tw/tags/questions/bat%E6%89%B9%E6%AC%A1%E6%AA%94', 'https://ithelp.ithome.com.tw/users/20160231', 'https://ithelp.ithome.com.tw/questions/10213030', 'https://ithelp.ithome.com.tw/questions/10213030', 'https://ithelp.ithome.com.tw/questions/10213030', 'https://ithelp.ithome.com.tw/questions/10213030', 'https://ithelp.ithome.com.tw/tags/questions/labview', 'https://ithelp.ithome.com.tw/tags/questions/%E7%A8%8B%E5%BC%8F%E8%A8%AD%E8%A8%88', 'https://ithelp.ithome.com.tw/tags/questions/%E8%B2%AA%E9%A3%9F%E8%9B%87', 'https://ithelp.ithome.com.tw/tags/questions/daq', 'https://ithelp.ithome.com.tw/users/20149901', 'https://ithelp.ithome.com.tw/questions/10213029', 'https://ithelp.ithome.com.tw/questions/10213029', 'https://ithelp.ithome.com.tw/questions/10213029', 'https://ithelp.ithome.com.tw/questions/10213029', 'https://ithelp.ithome.com.tw/tags/questions/windows%20server%202016', 'https://ithelp.ithome.com.tw/tags/questions/active%20directory', 'https://ithelp.ithome.com.tw/users/20119846', 'https://ithelp.ithome.com.tw/questions/10213028', 'https://ithelp.ithome.com.tw/questions/10213028', 'https://ithelp.ithome.com.tw/questions/10213028', 'https://ithelp.ithome.com.tw/questions/10213028', 'https://ithelp.ithome.com.tw/tags/questions/flask', 'https://ithelp.ithome.com.tw/tags/questions/python', 'https://ithelp.ithome.com.tw/tags/questions/%E7%B6%B2%E9%A0%81%E8%A8%AD%E8%A8%88', 'https://ithelp.ithome.com.tw/tags/questions/yolov5', 'https://ithelp.ithome.com.tw/tags/questions/html', 'https://ithelp.ithome.com.tw/users/20156378', 'https://ithelp.ithome.com.tw/questions/10213026', 'https://ithelp.ithome.com.tw/questions/10213026', 'https://ithelp.ithome.com.tw/questions/10213026', 'https://ithelp.ithome.com.tw/questions/10213026', 'https://ithelp.ithome.com.tw/tags/questions/mx%20component', 'https://ithelp.ithome.com.tw/tags/questions/visual%20basic%206', 'https://ithelp.ithome.com.tw/tags/questions/plc', 'https://ithelp.ithome.com.tw/tags/questions/%E4%B8%89%E8%8F%B1plc', 'https://ithelp.ithome.com.tw/users/20160226', 'https://ithelp.ithome.com.tw/questions/10213025', 'https://ithelp.ithome.com.tw/questions/10213025', 'https://ithelp.ithome.com.tw/questions/10213025', 'https://ithelp.ithome.com.tw/questions/10213025', 'https://ithelp.ithome.com.tw/tags/questions/it', 'https://ithelp.ithome.com.tw/users/20133735', 'https://ithelp.ithome.com.tw/questions/10213024', 'https://ithelp.ithome.com.tw/questions/10213024', 'https://ithelp.ithome.com.tw/questions/10213024', 'https://ithelp.ithome.com.tw/questions/10213024', 'https://ithelp.ithome.com.tw/tags/questions/%E7%A1%AC%E9%AB%94', 'https://ithelp.ithome.com.tw/tags/questions/%E9%9B%BB%E8%85%A6', 'https://ithelp.ithome.com.tw/tags/questions/%E7%B3%BB%E7%B5%B1', 'https://ithelp.ithome.com.tw/tags/questions/%E9%9F%B3%E9%87%8F%E6%B7%B7%E9%9F%B3%E7%A8%8B%E5%BC%8F', 'https://ithelp.ithome.com.tw/users/20135896', 'https://ithelp.ithome.com.tw/questions/10213023', 'https://ithelp.ithome.com.tw/questions/10213023', 'https://ithelp.ithome.com.tw/questions/10213023', 'https://ithelp.ithome.com.tw/questions/10213023', 'https://ithelp.ithome.com.tw/tags/questions/erp', 'https://ithelp.ithome.com.tw/tags/questions/windows%20server', 'https://ithelp.ithome.com.tw/tags/questions/%E8%AA%BF%E6%A0%A1', 'https://ithelp.ithome.com.tw/users/20103094', 'https://ithelp.ithome.com.tw/questions/10213022', 'https://ithelp.ithome.com.tw/questions/10213022', 'https://ithelp.ithome.com.tw/questions/10213022', 'https://ithelp.ithome.com.tw/questions/10213022', 'https://ithelp.ithome.com.tw/tags/questions/windows%20server', 'https://ithelp.ithome.com.tw/tags/questions/active%20directory', 'https://ithelp.ithome.com.tw/users/20146902', 'https://ithelp.ithome.com.tw/questions/10213021', 'https://ithelp.ithome.com.tw/questions/10213021', 'https://ithelp.ithome.com.tw/questions/10213021', 'https://ithelp.ithome.com.tw/questions/10213021', 'https://ithelp.ithome.com.tw/tags/questions/jquery', 'https://ithelp.ithome.com.tw/users/20104542', 'https://ithelp.ithome.com.tw/questions/10213020', 'https://ithelp.ithome.com.tw/questions/10213020', 'https://ithelp.ithome.com.tw/questions/10213020', 'https://ithelp.ithome.com.tw/questions/10213020', 'https://ithelp.ithome.com.tw/tags/questions/zimbra', 'https://ithelp.ithome.com.tw/users/20106763', 'https://ithelp.ithome.com.tw/questions/10213019', 'https://ithelp.ithome.com.tw/questions/10213019', 'https://ithelp.ithome.com.tw/questions/10213019', 'https://ithelp.ithome.com.tw/questions/10213019', 'https://ithelp.ithome.com.tw/tags/questions/lotus%20notes', 'https://ithelp.ithome.com.tw/users/20159447', 'https://ithelp.ithome.com.tw/questions/10213018', 'https://ithelp.ithome.com.tw/questions/10213018', 'https://ithelp.ithome.com.tw/questions/10213018', 'https://ithelp.ithome.com.tw/questions/10213018', 'https://ithelp.ithome.com.tw/tags/questions/ibm%20notes', 'https://ithelp.ithome.com.tw/tags/questions/hsts', 'https://ithelp.ithome.com.tw/tags/questions/%EF%BC%83%E8%B3%87%E8%A8%8A%20%EF%BC%83%E8%B3%87%E5%AE%89%20%EF%BC%83%E6%96%B0%E6%89%8B%20%EF%BC%83%E5%B0%8F%E7%99%BD', 'https://ithelp.ithome.com.tw/tags/questions/includesubdomains', 'https://ithelp.ithome.com.tw/users/20156405', 'https://ithelp.ithome.com.tw/questions/10213017', 'https://ithelp.ithome.com.tw/questions/10213017', 'https://ithelp.ithome.com.tw/questions/10213017', 'https://ithelp.ithome.com.tw/questions/10213017', 'https://ithelp.ithome.com.tw/tags/questions/wordpress', 'https://ithelp.ithome.com.tw/users/20001787', 'https://ithelp.ithome.com.tw/questions/10213016', 'https://ithelp.ithome.com.tw/questions/10213016', 'https://ithelp.ithome.com.tw/questions/10213016', 'https://ithelp.ithome.com.tw/questions/10213016', 'https://ithelp.ithome.com.tw/tags/questions/sap', 'https://ithelp.ithome.com.tw/users/20160206', 'https://ithelp.ithome.com.tw/questions/10213015', 'https://ithelp.ithome.com.tw/questions/10213015', 'https://ithelp.ithome.com.tw/questions/10213015', 'https://ithelp.ithome.com.tw/questions/10213015', 'https://ithelp.ithome.com.tw/tags/questions/%28day14%29%E7%8E%A9%E4%B8%80%E4%B8%8B%E6%96%87%E5%AD%97%E9%9B%B2', 'https://ithelp.ithome.com.tw/users/20160207', 'https://ithelp.ithome.com.tw/questions/10213014', 'https://ithelp.ithome.com.tw/questions/10213014', 'https://ithelp.ithome.com.tw/questions/10213014', 'https://ithelp.ithome.com.tw/questions/10213014', 'https://ithelp.ithome.com.tw/tags/questions/for', 'https://ithelp.ithome.com.tw/users/20155326', 'https://ithelp.ithome.com.tw/questions/10213013', 'https://ithelp.ithome.com.tw/questions/10213013', 'https://ithelp.ithome.com.tw/questions/10213013', 'https://ithelp.ithome.com.tw/questions/10213013', 'https://ithelp.ithome.com.tw/tags/questions/vue3', 'https://ithelp.ithome.com.tw/tags/questions/vite', 'https://ithelp.ithome.com.tw/tags/questions/bootstrap5', 'https://ithelp.ithome.com.tw/tags/questions/element-plus', 'https://ithelp.ithome.com.tw/users/20160190', 'https://ithelp.ithome.com.tw/questions/10213012', 'https://ithelp.ithome.com.tw/questions/10213012', 'https://ithelp.ithome.com.tw/questions/10213012', 'https://ithelp.ithome.com.tw/questions/10213012', 'https://ithelp.ithome.com.tw/tags/questions/python', 'https://ithelp.ithome.com.tw/tags/questions/time.sleep', 'https://ithelp.ithome.com.tw/users/20160201', 'https://ithelp.ithome.com.tw/questions/10213011', 'https://ithelp.ithome.com.tw/questions/10213011', 'https://ithelp.ithome.com.tw/questions/10213011', 'https://ithelp.ithome.com.tw/questions/10213011', 'https://ithelp.ithome.com.tw/tags/questions/esp32', 'https://ithelp.ithome.com.tw/tags/questions/relay', 'https://ithelp.ithome.com.tw/users/20160197', 'https://ithelp.ithome.com.tw/questions/10213010', 'https://ithelp.ithome.com.tw/questions/10213010', 'https://ithelp.ithome.com.tw/questions/10213010', 'https://ithelp.ithome.com.tw/questions/10213010', 'https://ithelp.ithome.com.tw/tags/questions/%E6%A9%9F%E6%88%BF', 'https://ithelp.ithome.com.tw/tags/questions/%E9%98%B2%E7%81%AB%E7%89%86', 'https://ithelp.ithome.com.tw/users/20104095', 'https://ithelp.ithome.com.tw/questions/10213009', 'https://ithelp.ithome.com.tw/questions/10213009', 'https://ithelp.ithome.com.tw/questions/10213009', 'https://ithelp.ithome.com.tw/questions/10213009', 'https://ithelp.ithome.com.tw/tags/questions/%23python', 'https://ithelp.ithome.com.tw/tags/questions/%23ajax', 'https://ithelp.ithome.com.tw/tags/questions/%23javascript', 'https://ithelp.ithome.com.tw/users/20153268', 'https://ithelp.ithome.com.tw/questions/10213008', 'https://ithelp.ithome.com.tw/questions/10213008', 'https://ithelp.ithome.com.tw/questions/10213008', 'https://ithelp.ithome.com.tw/questions/10213008', 'https://ithelp.ithome.com.tw/tags/questions/js', 'https://ithelp.ithome.com.tw/tags/questions/button', 'https://ithelp.ithome.com.tw/tags/questions/onclick', 'https://ithelp.ithome.com.tw/tags/questions/files', 'https://ithelp.ithome.com.tw/users/20104095', 'https://ithelp.ithome.com.tw?page=2', 'https://ithelp.ithome.com.tw?page=3', 'https://ithelp.ithome.com.tw?page=4', 'https://ithelp.ithome.com.tw?page=5', 'https://ithelp.ithome.com.tw?page=6', 'https://ithelp.ithome.com.tw?page=7', 'https://ithelp.ithome.com.tw?page=8', 'https://ithelp.ithome.com.tw?page=1622', 'https://ithelp.ithome.com.tw?page=1623', 'https://ithelp.ithome.com.tw?page=2', 'https://ithelp.ithome.com.tw/ironman?sc=iThelpR', 'https://ithelp.ithome.com.tw/articles/10312244?sc=iThelpR', 'https://ithelp.ithome.com.tw/articles/10312218?sc=iThelpR', 'https://ithelp.ithome.com.tw/articles/10312130?sc=iThelpR', 'https://ithelp.ithome.com.tw/articles/10311998?sc=iThelpR', 'https://ithelp.ithome.com.tw/articles/10311801?sc=iThelpR', 'https://ithelp.ithome.com.tw/articles/10311784?sc=iThelpR', 'https://ithelp.ithome.com.tw/articles/10311529?sc=iThelpR', 'https://ithelp.ithome.com.tw/articles/10311439?sc=iThelpR', 'https://ithelp.ithome.com.tw/articles/10311432?sc=iThelpR', 'https://ithelp.ithome.com.tw/articles/10311144?sc=iThelpR', 'https://ithelp.ithome.com.tw/ironman?sc=iThelpR', 'https://ithelp.ithome.com.tw/tags', 'https://ithelp.ithome.com.tw/tags/questions/13th%E9%90%B5%E4%BA%BA%E8%B3%BD', 'https://ithelp.ithome.com.tw/tags/questions/14th%E9%90%B5%E4%BA%BA%E8%B3%BD', 'https://ithelp.ithome.com.tw/tags/questions/12th%E9%90%B5%E4%BA%BA%E8%B3%BD', 'https://ithelp.ithome.com.tw/tags/questions/11th%E9%90%B5%E4%BA%BA%E8%B3%BD', 'https://ithelp.ithome.com.tw/tags/questions/%E9%90%B5%E4%BA%BA%E8%B3%BD', 'https://ithelp.ithome.com.tw/tags/questions/2019%E9%90%B5%E4%BA%BA%E8%B3%BD', 'https://ithelp.ithome.com.tw/tags/questions/2018%E9%90%B5%E4%BA%BA%E8%B3%BD', 'https://ithelp.ithome.com.tw/tags/questions/javascript', 'https://ithelp.ithome.com.tw/tags/questions/2017%E9%90%B5%E4%BA%BA%E8%B3%BD', 'https://ithelp.ithome.com.tw/tags/questions/python', 'https://ithelp.ithome.com.tw/tags/questions/windows', 'https://ithelp.ithome.com.tw/tags/questions/php', 'https://ithelp.ithome.com.tw/tags/questions/windows%20server', 'https://ithelp.ithome.com.tw/tags/questions/c%23', 'https://ithelp.ithome.com.tw/tags/questions/linux', 'https://ithelp.ithome.com.tw/tags/questions/css', 'https://ithelp.ithome.com.tw/tags/questions/%E7%A8%8B%E5%BC%8F%E8%A8%AD%E8%A8%88', 'https://ithelp.ithome.com.tw/tags/questions/%E8%B3%87%E8%A8%8A%E5%AE%89%E5%85%A8', 'https://ithelp.ithome.com.tw/tags/questions/sql', 'https://ithelp.ithome.com.tw/tags/questions/vue.js', 'https://ithelp.ithome.com.tw/questions/10212977', 'https://ithelp.ithome.com.tw/questions/10212999', 'https://ithelp.ithome.com.tw/questions/10212992', 'https://ithelp.ithome.com.tw/questions/10213004', 'https://ithelp.ithome.com.tw/questions/10212991', 'https://ithelp.ithome.com.tw/questions/10212998', 'https://ithelp.ithome.com.tw/questions/10213025', 'https://ithelp.ithome.com.tw/questions/10213010', 'https://ithelp.ithome.com.tw/questions/10212996', 'https://ithelp.ithome.com.tw/questions/10213017', 'https://ithelp.ithome.com.tw/questions/10212977', 'https://ithelp.ithome.com.tw/questions/10212992', 'https://ithelp.ithome.com.tw/questions/10212999', 'https://ithelp.ithome.com.tw/questions/10212983', 'https://ithelp.ithome.com.tw/questions/10213013', 'https://ithelp.ithome.com.tw/articles/10312223', 'https://ithelp.ithome.com.tw/articles/10312237', 'https://ithelp.ithome.com.tw/articles/10312244', 'https://ithelp.ithome.com.tw/articles/10312229', 'https://ithelp.ithome.com.tw/articles/10312142', 'https://www.facebook.com/ithelpfans/', 'https://www.ithome.com.tw/', 'https://www.ithome.com.tw/aboutus/', 'https://www.ithome.com.tw/aboutus/', 'mailto:ithelp@mail.ithome.com.tw', 'https://www.ithome.com.tw/terms', 'https://ithelp.ithome.com.tw/guide', '#', '#']\n"
     ]
    }
   ],
   "source": [
    "links = html.xpath(\"//a/@href\")\n",
    "print(links)"
   ]
  },
  {
   "attachments": {},
   "cell_type": "markdown",
   "metadata": {},
   "source": [
    "### 抓所有的圖片"
   ]
  },
  {
   "cell_type": "code",
   "execution_count": 3,
   "metadata": {},
   "outputs": [
    {
     "data": {
      "text/plain": [
       "['https://ithelp.ithome.com.tw/storage/image/logo.svg',\n",
       " 'https://ithelp.ithome.com.tw/storage/image/nav_logo.svg',\n",
       " 'https://ithelp.ithome.com.tw/storage/image/ironman9thsidebar.png']"
      ]
     },
     "execution_count": 3,
     "metadata": {},
     "output_type": "execute_result"
    }
   ],
   "source": [
    "images = html.xpath(\"//img/@src\")\n",
    "images"
   ]
  },
  {
   "attachments": {},
   "cell_type": "markdown",
   "metadata": {},
   "source": [
    "### 抓取所有主題"
   ]
  },
  {
   "cell_type": "code",
   "execution_count": 4,
   "metadata": {},
   "outputs": [
    {
     "name": "stdout",
     "output_type": "stream",
     "text": [
      "['關於mail server無法連線的狀況', '關於OSSIM官方最新版本5.8.14無法安裝問題']\n",
      "30\n"
     ]
    }
   ],
   "source": [
    "titles = html.xpath(\"//div[@class='qa-list']//h3[@class='qa-list__title']/a/text()\")\n",
    "print(titles[:2])\n",
    "print(len(titles))"
   ]
  },
  {
   "attachments": {},
   "cell_type": "markdown",
   "metadata": {},
   "source": [
    "### 抓剛才標題的links"
   ]
  },
  {
   "cell_type": "code",
   "execution_count": 5,
   "metadata": {},
   "outputs": [
    {
     "name": "stdout",
     "output_type": "stream",
     "text": [
      "['https://ithelp.ithome.com.tw/questions/10213038', 'https://ithelp.ithome.com.tw/questions/10213037', 'https://ithelp.ithome.com.tw/questions/10213036', 'https://ithelp.ithome.com.tw/questions/10213035', 'https://ithelp.ithome.com.tw/questions/10213034', 'https://ithelp.ithome.com.tw/questions/10213033', 'https://ithelp.ithome.com.tw/questions/10213032', 'https://ithelp.ithome.com.tw/questions/10213031', 'https://ithelp.ithome.com.tw/questions/10213030', 'https://ithelp.ithome.com.tw/questions/10213029', 'https://ithelp.ithome.com.tw/questions/10213028', 'https://ithelp.ithome.com.tw/questions/10213026', 'https://ithelp.ithome.com.tw/questions/10213025', 'https://ithelp.ithome.com.tw/questions/10213024', 'https://ithelp.ithome.com.tw/questions/10213023', 'https://ithelp.ithome.com.tw/questions/10213022', 'https://ithelp.ithome.com.tw/questions/10213021', 'https://ithelp.ithome.com.tw/questions/10213020', 'https://ithelp.ithome.com.tw/questions/10213019', 'https://ithelp.ithome.com.tw/questions/10213018', 'https://ithelp.ithome.com.tw/questions/10213017', 'https://ithelp.ithome.com.tw/questions/10213016', 'https://ithelp.ithome.com.tw/questions/10213015', 'https://ithelp.ithome.com.tw/questions/10213014', 'https://ithelp.ithome.com.tw/questions/10213013', 'https://ithelp.ithome.com.tw/questions/10213012', 'https://ithelp.ithome.com.tw/questions/10213011', 'https://ithelp.ithome.com.tw/questions/10213010', 'https://ithelp.ithome.com.tw/questions/10213009', 'https://ithelp.ithome.com.tw/questions/10213008']\n",
      "30\n"
     ]
    }
   ],
   "source": [
    "links = html.xpath(\"//div[@class='qa-list']//h3[@class='qa-list__title']/a/@href\")\n",
    "print(links)\n",
    "print(len(links))"
   ]
  },
  {
   "attachments": {},
   "cell_type": "markdown",
   "metadata": {},
   "source": [
    "### 小心抓到元素"
   ]
  },
  {
   "cell_type": "code",
   "execution_count": 12,
   "metadata": {},
   "outputs": [
    {
     "name": "stdout",
     "output_type": "stream",
     "text": [
      "[<Element a at 0x7fd7a44a6f40>, <Element a at 0x7fd7a44a7b40>, <Element a at 0x7fd7a44d0bc0>, <Element a at 0x7fd7a44d1d40>, <Element a at 0x7fd7a44d3300>, <Element a at 0x7fd7a44d8880>, <Element a at 0x7fd7a44d9400>, <Element a at 0x7fd7a44d9fc0>, <Element a at 0x7fd7a44da480>]\n"
     ]
    }
   ],
   "source": [
    "elements = html.xpath(\"//div[@class='qa-list']//h3[@class='qa-list__title']/a[contains(text(), '的')]\")\n",
    "print(elements)"
   ]
  },
  {
   "attachments": {},
   "cell_type": "markdown",
   "metadata": {},
   "source": [
    "### 這邊才是抓文字"
   ]
  },
  {
   "cell_type": "code",
   "execution_count": 14,
   "metadata": {},
   "outputs": [
    {
     "data": {
      "text/plain": [
       "['關於mail server無法連線的狀況',\n",
       " '限制 同網域的電腦透過 ip 和 port 連到特定webpage',\n",
       " '關於BAT檔 FOR指令的疑問',\n",
       " '如何用VB6透過MX Component 5讀取三菱PLC 3U的計數器C2的數值',\n",
       " '在textbox裡面打關鍵字，gridview裡面的關鍵字要Mark起來。',\n",
       " '(Day14)玩一下文字雲的準備資料問題',\n",
       " '想問python 的time.sleep和麥克風問題',\n",
       " '請教Python爬蟲程式，處理 ajax 取值的疑問。',\n",
       " 'JS button 如何取得input 的files 檔案來讀取']"
      ]
     },
     "execution_count": 14,
     "metadata": {},
     "output_type": "execute_result"
    }
   ],
   "source": [
    "texts = html.xpath(\"//div[@class='qa-list']//h3[@class='qa-list__title']/a[contains(text(), '的')]/text()\")\n",
    "texts"
   ]
  }
 ],
 "metadata": {
  "kernelspec": {
   "display_name": "selenium-strGPMzh",
   "language": "python",
   "name": "python3"
  },
  "language_info": {
   "codemirror_mode": {
    "name": "ipython",
    "version": 3
   },
   "file_extension": ".py",
   "mimetype": "text/x-python",
   "name": "python",
   "nbconvert_exporter": "python",
   "pygments_lexer": "ipython3",
   "version": "3.10.6"
  },
  "orig_nbformat": 4
 },
 "nbformat": 4,
 "nbformat_minor": 2
}
