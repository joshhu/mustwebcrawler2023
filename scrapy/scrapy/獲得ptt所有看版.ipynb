{
 "cells": [
  {
   "attachments": {},
   "cell_type": "markdown",
   "metadata": {},
   "source": [
    "# 爬取PTT所有看板並且存入資料庫"
   ]
  },
  {
   "attachments": {},
   "cell_type": "markdown",
   "metadata": {},
   "source": [
    "## 先登入PTT，使用正常的帳號密碼"
   ]
  },
  {
   "attachments": {},
   "cell_type": "markdown",
   "metadata": {},
   "source": []
  },
  {
   "cell_type": "code",
   "execution_count": 1,
   "metadata": {},
   "outputs": [
    {
     "name": "stdout",
     "output_type": "stream",
     "text": [
      "PyPtt v 0.9.50\n",
      "Developed by CodingMan\n",
      "[0530 21:22:09][資訊] 繁體中文語言模組 [初始化]\n",
      "[0530 21:22:09][資訊] 連線主機 [批踢踢]\n",
      "[0530 21:22:09][資訊] 連線核心 [初始化]\n",
      "[0530 21:22:09][資訊] PyPtt v 0.9.50 [初始化]\n",
      "[0530 21:22:13][資訊] 連線核心 [啟動]\n",
      "[0530 21:22:13][資訊] 連線模式 [WebSocket]\n",
      "[0530 21:22:13][資訊] 登入帳號 [joshhu]\n",
      "[0530 21:22:13][資訊] 批踢踢訊息 [登入中，請稍候]\n",
      "[0530 21:22:13][資訊] 批踢踢訊息 [更新與同步線上使用者及好友名單]\n",
      "[0530 21:22:13][資訊] 批踢踢訊息 [請按任意鍵繼續]\n",
      "[0530 21:22:13][資訊] 批踢踢訊息 [登入成功]\n",
      "[0530 21:22:13][外部] 登入成功\n"
     ]
    }
   ],
   "source": [
    "import nest_asyncio\n",
    "import sys\n",
    "from PyPtt import PTT\n",
    "from getpass import getpass\n",
    "\n",
    "\n",
    "nest_asyncio.apply()\n",
    "ptt_bot = PTT.API()\n",
    "pttid = input(\"輸入帳號\")\n",
    "pttpwd = getpass(\"輸入密碼\")\n",
    "try:\n",
    "    ptt_bot.login(pttid, pttpwd, kick_other_login=False)\n",
    "except PTT.exceptions.LoginError:\n",
    "    ptt_bot.log('登入失敗')\n",
    "    sys.exit()\n",
    "except PTT.exceptions.WrongIDorPassword:\n",
    "    ptt_bot.log('帳號密碼錯誤')\n",
    "    sys.exit()\n",
    "except PTT.exceptions.LoginTooOften:\n",
    "    ptt_bot.log('請稍等一下再登入')\n",
    "    sys.exit()\n",
    "ptt_bot.log('登入成功')\n",
    "\n",
    "if ptt_bot.unregistered_user:\n",
    "    print('未註冊使用者')\n",
    "    if ptt_bot.process_picks != 0:\n",
    "        print(f'註冊單處理順位 {ptt_bot.process_picks}')"
   ]
  },
  {
   "attachments": {},
   "cell_type": "markdown",
   "metadata": {},
   "source": [
    "## 獲取所有的看板"
   ]
  },
  {
   "cell_type": "code",
   "execution_count": 2,
   "metadata": {},
   "outputs": [
    {
     "name": "stdout",
     "output_type": "stream",
     "text": [
      "[0530 21:24:01][資訊] 批踢踢訊息 [看板列表]\n"
     ]
    },
    {
     "name": "stderr",
     "output_type": "stream",
     "text": [
      "  0% (0 of 13311) |                      | Elapsed Time: 0:00:00 ETA:  --:--:--\n",
      "  1% (169 of 13311) |                    | Elapsed Time: 0:00:00 ETA:  00:00:00\n",
      "  3% (506 of 13311) |                    | Elapsed Time: 0:00:00 ETA:   0:00:02\n",
      "  6% (843 of 13311) |#                   | Elapsed Time: 0:00:00 ETA:   0:00:02\n",
      "  8% (1180 of 13311) |#                  | Elapsed Time: 0:00:00 ETA:   0:00:02\n",
      " 11% (1517 of 13311) |##                 | Elapsed Time: 0:00:00 ETA:   0:00:02\n",
      " 13% (1854 of 13311) |##                 | Elapsed Time: 0:00:00 ETA:   0:00:02\n",
      " 16% (2191 of 13311) |###                | Elapsed Time: 0:00:00 ETA:   0:00:02\n",
      " 18% (2528 of 13311) |###                | Elapsed Time: 0:00:00 ETA:   0:00:02\n",
      " 21% (2865 of 13311) |####               | Elapsed Time: 0:00:00 ETA:   0:00:01\n",
      " 24% (3202 of 13311) |####               | Elapsed Time: 0:00:00 ETA:   0:00:01\n",
      " 26% (3539 of 13311) |#####              | Elapsed Time: 0:00:00 ETA:   0:00:01\n",
      " 29% (3876 of 13311) |#####              | Elapsed Time: 0:00:00 ETA:   0:00:01\n",
      " 31% (4213 of 13311) |######             | Elapsed Time: 0:00:00 ETA:   0:00:01\n",
      " 34% (4550 of 13311) |######             | Elapsed Time: 0:00:00 ETA:   0:00:01\n",
      " 36% (4887 of 13311) |######             | Elapsed Time: 0:00:00 ETA:   0:00:01\n",
      " 39% (5224 of 13311) |#######            | Elapsed Time: 0:00:01 ETA:   0:00:01\n",
      " 41% (5561 of 13311) |#######            | Elapsed Time: 0:00:01 ETA:   0:00:01\n",
      " 44% (5898 of 13311) |########           | Elapsed Time: 0:00:01 ETA:   0:00:01\n",
      " 46% (6235 of 13311) |########           | Elapsed Time: 0:00:01 ETA:   0:00:01\n",
      " 49% (6572 of 13311) |#########          | Elapsed Time: 0:00:01 ETA:   0:00:01\n",
      " 51% (6909 of 13311) |#########          | Elapsed Time: 0:00:01 ETA:   0:00:01\n",
      " 54% (7246 of 13311) |##########         | Elapsed Time: 0:00:01 ETA:   0:00:01\n",
      " 56% (7583 of 13311) |##########         | Elapsed Time: 0:00:01 ETA:   0:00:01\n",
      " 59% (7920 of 13311) |###########        | Elapsed Time: 0:00:01 ETA:   0:00:01\n",
      " 62% (8257 of 13311) |###########        | Elapsed Time: 0:00:01 ETA:   0:00:00\n",
      " 64% (8594 of 13311) |############       | Elapsed Time: 0:00:01 ETA:   0:00:00\n",
      " 67% (8931 of 13311) |############       | Elapsed Time: 0:00:01 ETA:   0:00:00\n",
      " 69% (9268 of 13311) |#############      | Elapsed Time: 0:00:01 ETA:   0:00:00\n",
      " 72% (9605 of 13311) |#############      | Elapsed Time: 0:00:01 ETA:   0:00:00\n",
      " 74% (9942 of 13311) |##############     | Elapsed Time: 0:00:01 ETA:   0:00:00\n",
      " 77% (10279 of 13311) |#############     | Elapsed Time: 0:00:01 ETA:   0:00:00\n",
      " 79% (10616 of 13311) |##############    | Elapsed Time: 0:00:01 ETA:   0:00:00\n",
      " 82% (10953 of 13311) |##############    | Elapsed Time: 0:00:02 ETA:   0:00:00\n",
      " 84% (11290 of 13311) |###############   | Elapsed Time: 0:00:02 ETA:   0:00:00\n",
      " 87% (11627 of 13311) |###############   | Elapsed Time: 0:00:02 ETA:   0:00:00\n",
      " 89% (11964 of 13311) |################  | Elapsed Time: 0:00:02 ETA:   0:00:00\n",
      " 92% (12301 of 13311) |################  | Elapsed Time: 0:00:02 ETA:   0:00:00\n",
      " 94% (12638 of 13311) |################# | Elapsed Time: 0:00:02 ETA:   0:00:00\n",
      " 97% (12975 of 13311) |################# | Elapsed Time: 0:00:02 ETA:   0:00:00\n",
      "100% (13311 of 13311) |##################| Elapsed Time: 0:00:02 Time:  0:00:02\n"
     ]
    },
    {
     "name": "stdout",
     "output_type": "stream",
     "text": [
      "總共有 13311 個看板\n"
     ]
    }
   ],
   "source": [
    "board_list = ptt_bot.get_board_list()\n",
    "print(f'總共有 {len(board_list)} 個看板')"
   ]
  },
  {
   "cell_type": "code",
   "execution_count": 3,
   "metadata": {},
   "outputs": [
    {
     "data": {
      "text/plain": [
       "['SetupBBS',\n",
       " 'Bio-Job',\n",
       " 'Bioindustry',\n",
       " 'Biology',\n",
       " 'BioMedInfo',\n",
       " 'Biotech',\n",
       " 'Medicine',\n",
       " 'Ornithology',\n",
       " 'FB_announce',\n",
       " 'FB_bugs']"
      ]
     },
     "execution_count": 3,
     "metadata": {},
     "output_type": "execute_result"
    }
   ],
   "source": [
    "board_list[:10]"
   ]
  },
  {
   "attachments": {},
   "cell_type": "markdown",
   "metadata": {},
   "source": [
    "## 計算每個看板及所有文章總數"
   ]
  },
  {
   "cell_type": "code",
   "execution_count": 4,
   "metadata": {},
   "outputs": [
    {
     "name": "stdout",
     "output_type": "stream",
     "text": [
      "總共有 43006298 篇文章\n"
     ]
    }
   ],
   "source": [
    "allcount = 0\n",
    "counts = []\n",
    "for test_board in board_list:\n",
    "    try:\n",
    "        index = ptt_bot.get_newest_index(\n",
    "            PTT.data_type.index_type.BBS,\n",
    "            board=test_board\n",
    "        )\n",
    "    except:\n",
    "        index = 0\n",
    "    counts.append(index)\n",
    "    allcount += index\n",
    "print(f'總共有 {allcount} 篇文章')\n"
   ]
  },
  {
   "cell_type": "code",
   "execution_count": 5,
   "metadata": {},
   "outputs": [],
   "source": [
    "import pandas as pd\n",
    "board_df = pd.DataFrame(\n",
    "    {'Board': board_list, 'Count': counts}\n",
    ")"
   ]
  },
  {
   "cell_type": "code",
   "execution_count": 6,
   "metadata": {},
   "outputs": [
    {
     "data": {
      "text/html": [
       "<div>\n",
       "<style scoped>\n",
       "    .dataframe tbody tr th:only-of-type {\n",
       "        vertical-align: middle;\n",
       "    }\n",
       "\n",
       "    .dataframe tbody tr th {\n",
       "        vertical-align: top;\n",
       "    }\n",
       "\n",
       "    .dataframe thead th {\n",
       "        text-align: right;\n",
       "    }\n",
       "</style>\n",
       "<table border=\"1\" class=\"dataframe\">\n",
       "  <thead>\n",
       "    <tr style=\"text-align: right;\">\n",
       "      <th></th>\n",
       "      <th>Board</th>\n",
       "      <th>Count</th>\n",
       "    </tr>\n",
       "  </thead>\n",
       "  <tbody>\n",
       "    <tr>\n",
       "      <th>0</th>\n",
       "      <td>SetupBBS</td>\n",
       "      <td>2911</td>\n",
       "    </tr>\n",
       "    <tr>\n",
       "      <th>1</th>\n",
       "      <td>Bio-Job</td>\n",
       "      <td>13536</td>\n",
       "    </tr>\n",
       "    <tr>\n",
       "      <th>2</th>\n",
       "      <td>Bioindustry</td>\n",
       "      <td>13448</td>\n",
       "    </tr>\n",
       "    <tr>\n",
       "      <th>3</th>\n",
       "      <td>Biology</td>\n",
       "      <td>8700</td>\n",
       "    </tr>\n",
       "    <tr>\n",
       "      <th>4</th>\n",
       "      <td>BioMedInfo</td>\n",
       "      <td>1102</td>\n",
       "    </tr>\n",
       "    <tr>\n",
       "      <th>5</th>\n",
       "      <td>Biotech</td>\n",
       "      <td>17867</td>\n",
       "    </tr>\n",
       "    <tr>\n",
       "      <th>6</th>\n",
       "      <td>Medicine</td>\n",
       "      <td>933</td>\n",
       "    </tr>\n",
       "    <tr>\n",
       "      <th>7</th>\n",
       "      <td>Ornithology</td>\n",
       "      <td>1116</td>\n",
       "    </tr>\n",
       "    <tr>\n",
       "      <th>8</th>\n",
       "      <td>FB_announce</td>\n",
       "      <td>2506</td>\n",
       "    </tr>\n",
       "    <tr>\n",
       "      <th>9</th>\n",
       "      <td>FB_bugs</td>\n",
       "      <td>20543</td>\n",
       "    </tr>\n",
       "    <tr>\n",
       "      <th>10</th>\n",
       "      <td>FB_chat</td>\n",
       "      <td>4782</td>\n",
       "    </tr>\n",
       "    <tr>\n",
       "      <th>11</th>\n",
       "      <td>FB_current</td>\n",
       "      <td>22247</td>\n",
       "    </tr>\n",
       "    <tr>\n",
       "      <th>12</th>\n",
       "      <td>FB_cvs</td>\n",
       "      <td>18001</td>\n",
       "    </tr>\n",
       "    <tr>\n",
       "      <th>13</th>\n",
       "      <td>FB_doc</td>\n",
       "      <td>5807</td>\n",
       "    </tr>\n",
       "    <tr>\n",
       "      <th>14</th>\n",
       "      <td>FB_hackers</td>\n",
       "      <td>19639</td>\n",
       "    </tr>\n",
       "    <tr>\n",
       "      <th>15</th>\n",
       "      <td>FB_ports</td>\n",
       "      <td>23745</td>\n",
       "    </tr>\n",
       "    <tr>\n",
       "      <th>16</th>\n",
       "      <td>FB_questions</td>\n",
       "      <td>22364</td>\n",
       "    </tr>\n",
       "    <tr>\n",
       "      <th>17</th>\n",
       "      <td>FB_security</td>\n",
       "      <td>5452</td>\n",
       "    </tr>\n",
       "    <tr>\n",
       "      <th>18</th>\n",
       "      <td>FB_smp</td>\n",
       "      <td>2528</td>\n",
       "    </tr>\n",
       "    <tr>\n",
       "      <th>19</th>\n",
       "      <td>FB_stable</td>\n",
       "      <td>20840</td>\n",
       "    </tr>\n",
       "  </tbody>\n",
       "</table>\n",
       "</div>"
      ],
      "text/plain": [
       "           Board  Count\n",
       "0       SetupBBS   2911\n",
       "1        Bio-Job  13536\n",
       "2    Bioindustry  13448\n",
       "3        Biology   8700\n",
       "4     BioMedInfo   1102\n",
       "5        Biotech  17867\n",
       "6       Medicine    933\n",
       "7    Ornithology   1116\n",
       "8    FB_announce   2506\n",
       "9        FB_bugs  20543\n",
       "10       FB_chat   4782\n",
       "11    FB_current  22247\n",
       "12        FB_cvs  18001\n",
       "13        FB_doc   5807\n",
       "14    FB_hackers  19639\n",
       "15      FB_ports  23745\n",
       "16  FB_questions  22364\n",
       "17   FB_security   5452\n",
       "18        FB_smp   2528\n",
       "19     FB_stable  20840"
      ]
     },
     "execution_count": 6,
     "metadata": {},
     "output_type": "execute_result"
    }
   ],
   "source": [
    "board_df.head(20)"
   ]
  },
  {
   "attachments": {},
   "cell_type": "markdown",
   "metadata": {},
   "source": [
    "## 把所有看板存入mongodb"
   ]
  },
  {
   "cell_type": "code",
   "execution_count": 7,
   "metadata": {},
   "outputs": [
    {
     "data": {
      "text/plain": [
       "<pymongo.results.InsertManyResult at 0x7fa28aa6a110>"
      ]
     },
     "execution_count": 7,
     "metadata": {},
     "output_type": "execute_result"
    }
   ],
   "source": [
    "from pymongo import MongoClient\n",
    "import urllib\n",
    "\n",
    "mongo_uri = \"mongodb://must:\" + urllib.parse.quote_plus(\"must\") + \"@127.0.0.1:12346/\"  # type: ignore\n",
    "client = MongoClient(mongo_uri)\n",
    "db = client['ptt']\n",
    "ptt_boards = db['boards']\n",
    "ptt_boards.insert_many(board_df.to_dict('records'))  # type: ignore\n"
   ]
  }
 ],
 "metadata": {
  "kernelspec": {
   "display_name": "selenium-strGPMzh",
   "language": "python",
   "name": "python3"
  },
  "language_info": {
   "codemirror_mode": {
    "name": "ipython",
    "version": 3
   },
   "file_extension": ".py",
   "mimetype": "text/x-python",
   "name": "python",
   "nbconvert_exporter": "python",
   "pygments_lexer": "ipython3",
   "version": "3.10.6"
  },
  "orig_nbformat": 4
 },
 "nbformat": 4,
 "nbformat_minor": 2
}
