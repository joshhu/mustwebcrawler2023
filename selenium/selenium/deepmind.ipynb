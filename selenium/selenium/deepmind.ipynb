{
 "cells": [
  {
   "cell_type": "code",
   "execution_count": 2,
   "metadata": {},
   "outputs": [],
   "source": [
    "from selenium import webdriver\n",
    "from selenium.webdriver.chrome.options import Options\n",
    "from selenium.webdriver.chrome.service import Service\n",
    "from selenium.webdriver.support import expected_conditions as EC\n",
    "from selenium.webdriver.support.ui import WebDriverWait\n",
    "from selenium.webdriver.common.by import By\n",
    "from fake_useragent import UserAgent\n",
    "import random\n",
    "import string\n",
    "from faker import Factory\n",
    "import time"
   ]
  },
  {
   "cell_type": "code",
   "execution_count": 4,
   "metadata": {},
   "outputs": [
    {
     "data": {
      "text/plain": [
       "True"
      ]
     },
     "execution_count": 4,
     "metadata": {},
     "output_type": "execute_result"
    }
   ],
   "source": [
    "options = Options() \n",
    "\n",
    "ua = UserAgent()\n",
    "userAgent = ua.random\n",
    "\n",
    "options.add_argument(f'user-agent={userAgent}')\n",
    "options.add_argument('--headless')  # 非本機執行，必須啟動Headless模式\n",
    "options.add_argument('--disable-gpu') # 關閉GPU 避免某些系統或是網頁出錯\n",
    "\n",
    "# 如果chromedriver沒有在PATH中，就要將完整路徑放入\n",
    "# service = Service(r\"/home/must/workspace/selenium/chromedriver\")\n",
    "\n",
    "# 如果chromedriver有在PATH中，直接\n",
    "service = Service()\n",
    "\n",
    "#載入瀏覽器\n",
    "driver = webdriver.Chrome(service=service, options=options)\n",
    "\n",
    "faker = Factory.create(\"en\")\n",
    "\n",
    "url = 'https://deepmind.com.tw/login_deepmind/?action=register'\n",
    "driver.get(url)\n",
    "driver.get_screenshot_as_file('dm01.png')"
   ]
  },
  {
   "cell_type": "code",
   "execution_count": 7,
   "metadata": {},
   "outputs": [
    {
     "name": "stdout",
     "output_type": "stream",
     "text": [
      "I630654028\n"
     ]
    },
    {
     "data": {
      "text/plain": [
       "True"
      ]
     },
     "execution_count": 7,
     "metadata": {},
     "output_type": "execute_result"
    }
   ],
   "source": [
    "loginid=random.choice(string.ascii_uppercase)+str(random.randint(1,999999999)).zfill(8)\n",
    "myid = driver.find_element(By.NAME, \"user_login\")\n",
    "myid.clear()\n",
    "myid.send_keys(loginid)\n",
    "print(loginid)\n",
    "driver.get_screenshot_as_file('dmmyid.png')"
   ]
  },
  {
   "cell_type": "code",
   "execution_count": 8,
   "metadata": {},
   "outputs": [
    {
     "data": {
      "text/plain": [
       "True"
      ]
     },
     "execution_count": 8,
     "metadata": {},
     "output_type": "execute_result"
    }
   ],
   "source": [
    "email = faker.email()\n",
    "\n",
    "myemail = driver.find_element(By.NAME, \"user_email\")\n",
    "myemail.clear()\n",
    "myemail.send_keys(email)\n",
    "driver.get_screenshot_as_file('dmmyemail.png')"
   ]
  },
  {
   "cell_type": "code",
   "execution_count": 9,
   "metadata": {},
   "outputs": [
    {
     "data": {
      "text/plain": [
       "True"
      ]
     },
     "execution_count": 9,
     "metadata": {},
     "output_type": "execute_result"
    }
   ],
   "source": [
    "passwd1 = driver.find_element(By.ID, \"ws-plugin--s2member-custom-reg-field-user-pass1\")\n",
    "passwd2 = driver.find_element(By.ID, \"ws-plugin--s2member-custom-reg-field-user-pass2\")\n",
    "\n",
    "passwd1.clear()\n",
    "passwd2.clear()\n",
    "\n",
    "passwd1.send_keys(\"12345678\")\n",
    "passwd2.send_keys(\"12345678\")\n",
    "driver.get_screenshot_as_file('dmpassword.png')"
   ]
  },
  {
   "cell_type": "code",
   "execution_count": 3,
   "metadata": {},
   "outputs": [
    {
     "name": "stdout",
     "output_type": "stream",
     "text": [
      "kking@example.net\n",
      "12345678\n"
     ]
    }
   ],
   "source": [
    "loginid=random.choice(string.ascii_uppercase)+str(random.randint(1,999999999)).zfill(8)\n",
    "myid = driver.find_element(By.NAME, \"user_login\")\n",
    "myid.clear()\n",
    "myid.send_keys(loginid)\n",
    "\n",
    "email = faker.email()\n",
    "\n",
    "myemail = driver.find_element(By.NAME, \"user_email\")\n",
    "myemail.clear()\n",
    "myemail.send_keys(email)\n",
    "\n",
    "passwd1 = driver.find_element(By.ID, \"ws-plugin--s2member-custom-reg-field-user-pass1\")\n",
    "passwd2 = driver.find_element(By.ID, \"ws-plugin--s2member-custom-reg-field-user-pass2\")\n",
    "\n",
    "passwd1.clear()\n",
    "passwd2.clear()\n",
    "\n",
    "passwd1.send_keys(\"12345678\")\n",
    "passwd2.send_keys(\"12345678\")\n",
    "\n",
    "fname = faker.first_name()\n",
    "lname = faker.last_name()\n",
    "\n",
    "firstname = driver.find_element(\"id\", \"ws-plugin--s2member-custom-reg-field-first-name\")\n",
    "lastname = driver.find_element(\"id\", \"ws-plugin--s2member-custom-reg-field-last-name\")\n",
    "\n",
    "firstname.clear()\n",
    "lastname.clear()\n",
    "\n",
    "firstname.send_keys(fname)\n",
    "lastname.send_keys(lname)\n",
    "\n",
    "birthday = driver.find_element(\"id\", \"ws-plugin--s2member-custom-reg-field-birthday\")\n",
    "birthday.clear()\n",
    "birthday.send_keys(\"01/01/1990\")\n",
    "\n",
    "phone = driver.find_element(\"id\", \"ws-plugin--s2member-custom-reg-field-phone\")\n",
    "phone.clear()\n",
    "phone.send_keys(faker.phone_number())\n",
    "\n",
    "driver.get_screenshot_as_file('dm02.png')\n",
    "\n",
    "mysubmit = WebDriverWait(driver, 5).until(EC.presence_of_element_located((By.ID, \"wp-submit\")))\n",
    "mysubmit.submit()\n",
    "time.sleep(1)\n",
    "driver.get_screenshot_as_file('dm03.png')\n",
    "driver.close()\n",
    "print(email)\n",
    "print(\"12345678\")"
   ]
  },
  {
   "cell_type": "code",
   "execution_count": null,
   "metadata": {},
   "outputs": [],
   "source": []
  }
 ],
 "metadata": {
  "kernelspec": {
   "display_name": "selenium-strGPMzh",
   "language": "python",
   "name": "python3"
  },
  "language_info": {
   "codemirror_mode": {
    "name": "ipython",
    "version": 3
   },
   "file_extension": ".py",
   "mimetype": "text/x-python",
   "name": "python",
   "nbconvert_exporter": "python",
   "pygments_lexer": "ipython3",
   "version": "3.10.6"
  },
  "orig_nbformat": 4
 },
 "nbformat": 4,
 "nbformat_minor": 2
}
