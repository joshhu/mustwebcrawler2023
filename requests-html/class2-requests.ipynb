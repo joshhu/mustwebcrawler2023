{
 "cells": [
  {
   "attachments": {},
   "cell_type": "markdown",
   "metadata": {},
   "source": [
    "# class2.ipynb\n",
    "## `requests`示範\n",
    "* 載入`requests`函式庫\n",
    "* 將要要求的網頁`www.google.com`放在`url`變數中\n",
    "* 使用`requests.get(url)對網頁發出http的get請求\n",
    "* 印出結果"
   ]
  },
  {
   "cell_type": "code",
   "execution_count": null,
   "metadata": {},
   "outputs": [],
   "source": [
    "import requests\n",
    "url = 'https://www.google.com' # 先將欲發出 GET 請求的網址先存在 url\n",
    "res = requests.get(url) # 對 url 發出 GET 請求，並將 Response 包成回傳物件存在 res\n",
    "print(type(res), res) # Output: <class 'requests.models.Response'> <Response [200]>"
   ]
  },
  {
   "attachments": {},
   "cell_type": "markdown",
   "metadata": {},
   "source": [
    "## 附帶參數的`requests`範例\n",
    "GET 是十分直觀的請求，不過有時候會攜帶參數。GET 請求攜帶參數會直接放在網址(url)，位於 ? 後，若有多個則以 & 分隔。以 `https://www.google.com/search?q=IThome&oq=IThome`為例，有兩個參數以 &分隔，第一個參數，參數名稱為 q ，參數值為 IThome ，第二個參數，參數名稱為 oq ，參數值為 IThome 。\n",
    "\n",
    "* 直接放在網址\n",
    "* 使用`params=params`參數\n",
    "\n"
   ]
  },
  {
   "cell_type": "code",
   "execution_count": null,
   "metadata": {},
   "outputs": [],
   "source": [
    "import requests\n",
    "# 方法一\n",
    "url1 = 'https://www.google.com/search?q=IThome&oq=IThome'\n",
    "res = requests.get(url1)\n",
    "print(res.url, res)  #Output: https://www.google.com/search?q=IThome&oq=IThome <Response [200]>\n",
    "\n",
    "# 方法二\n",
    "\n",
    "url2 = 'https://www.google.com/search'\n",
    "params = {'q':'IThome','oq':'IThome'}\n",
    "requests.get(url2, params=params) #Output: https://www.google.com/search?q=IThome&oq=IThome <Response [200]>"
   ]
  },
  {
   "attachments": {},
   "cell_type": "markdown",
   "metadata": {},
   "source": [
    "## Post範例\n"
   ]
  },
  {
   "cell_type": "code",
   "execution_count": null,
   "metadata": {},
   "outputs": [],
   "source": [
    "import requests\n",
    "import json #JSON 非 python 原生型態但為內建，因此直接引入即可\n",
    "\n",
    "# 使用字典傳入 POST 參數\n",
    "data = {'account':'testOwO', 'password':'testOwO'}\n",
    "url = 'https://zh.wikipedia.org/'\n",
    "print(requests.post(url, data=data)) #Output: <Response [200]>\n",
    "\n",
    "#使用 JSON 傳入 POST 參數\n",
    "data = json.dumps(data)\n",
    "url = 'https://zh.wikipedia.org/'\n",
    "print(requests.post(url, data=data)) #Output: <Response [200]>"
   ]
  },
  {
   "attachments": {},
   "cell_type": "markdown",
   "metadata": {},
   "source": [
    "## `requests`的其它參數\n",
    "* Requests Headers\n",
    "\n",
    "用 Requests函式庫傳入 Requests Headers。有些網頁會擋 User-Agent，若沒出現它允許的 User-Agent 就會拒絕存取，繞過方法十分簡單，複製 手動存取成功的 User-Agent，之後加到爬蟲的 Requests Headers 中即可。"
   ]
  },
  {
   "cell_type": "code",
   "execution_count": null,
   "metadata": {},
   "outputs": [],
   "source": [
    "import requests\n",
    "url = 'https://www.must.edu.tw'\n",
    "User_Agent = 'Mozilla/5.0 (Windows NT 10.0; Win64; x64) AppleWebKit/537.36 (KHTML, like Gecko) Chrome/93.0.4577.82 Safari/537.36'\n",
    "headers = {\n",
    "\t'User-Agent' : User_Agent\n",
    "}\n",
    "print(requests.get(url, headers=headers).status_code) #Output: 200"
   ]
  },
  {
   "attachments": {},
   "cell_type": "markdown",
   "metadata": {},
   "source": [
    "* Proxy IP的使用\n",
    "Requests函式庫可傳入 proxy IP 做網路代理服務，讀者可以去網路上的免費 proxy list，像是 https://geonode.com/free-proxy-list"
   ]
  },
  {
   "cell_type": "code",
   "execution_count": null,
   "metadata": {},
   "outputs": [],
   "source": [
    "import requests\n",
    "url = 'https://snake-game-backend.herokuapp.com/Alldatas'\n",
    "proxies = {'http' : 'http://62.33.207.202:80','https' : 'https://101.255.120.222:8080'}\n",
    "print(requests.get(url, proxies=proxies).status_code) #Output: 200"
   ]
  },
  {
   "attachments": {},
   "cell_type": "markdown",
   "metadata": {},
   "source": [
    "* 關掉憑證驗證\n",
    "\n",
    "如欲爬取的網站憑證失效等因素導致 https 失效(not secure)，這時用 requests 會因為安全性無法爬取。Requests 可以將憑證驗證關閉，讓 Requests 成功爬取。"
   ]
  },
  {
   "cell_type": "code",
   "execution_count": null,
   "metadata": {},
   "outputs": [],
   "source": [
    "import requests\n",
    "r = requests.get('https://www.google.com', verify = False)\n",
    "print(r.status_code) #Output: 200"
   ]
  },
  {
   "attachments": {},
   "cell_type": "markdown",
   "metadata": {},
   "source": [
    "* Timeout\n",
    "\n",
    "Request 傳出後，到有回傳傳入如果超過給定 timeout 時間，會拋出一個例外。"
   ]
  },
  {
   "cell_type": "code",
   "execution_count": null,
   "metadata": {},
   "outputs": [],
   "source": [
    "import requests\n",
    "r = requests.get('https://www.google.com', timeout=0.00000001)"
   ]
  },
  {
   "attachments": {},
   "cell_type": "markdown",
   "metadata": {},
   "source": [
    "## `request`的其它範例"
   ]
  },
  {
   "cell_type": "code",
   "execution_count": null,
   "metadata": {},
   "outputs": [],
   "source": [
    "import requests\n",
    "\n",
    "# 1. 發送GET請求並獲取網頁內容\n",
    "response = requests.get('https://www.google.com')\n",
    "print(response.text)\n",
    "# 使用requests庫發送GET請求，並通過response物件獲取網頁的內容。列印出網頁的HTML內容。\n"
   ]
  },
  {
   "cell_type": "code",
   "execution_count": null,
   "metadata": {},
   "outputs": [],
   "source": [
    "# 2. 發送POST請求並傳遞參數\n",
    "payload = {'key1': 'value1', 'key2': 'value2'}\n",
    "response = requests.post('https://www.google.com', data=payload)\n",
    "print(response.text)\n",
    "# 使用requests庫發送POST請求，並傳遞參數payload。列印出回應的內容。"
   ]
  },
  {
   "cell_type": "code",
   "execution_count": null,
   "metadata": {},
   "outputs": [],
   "source": [
    "# 3. 添加請求標頭資訊\n",
    "headers = {'User-Agent': 'Mozilla/5.0'}\n",
    "response = requests.get('https://www.google.com', headers=headers)\n",
    "print(response.text)\n",
    "# 使用requests函式庫發送GET請求，並在請求標頭中添加自訂的User-Agent。列印出網頁的內容。\n"
   ]
  },
  {
   "cell_type": "code",
   "execution_count": null,
   "metadata": {},
   "outputs": [],
   "source": [
    "# 4. 設置超時時間\n",
    "timeout = 5\n",
    "response = requests.get('https://www.google.com', timeout=timeout)\n",
    "print(response.text)\n",
    "# 使用requests庫發送GET請求，並設置超時時間為5秒。列印出網頁的內容。"
   ]
  },
  {
   "cell_type": "code",
   "execution_count": null,
   "metadata": {},
   "outputs": [],
   "source": [
    "# 5. 下載檔案\n",
    "url = 'https://www.google.com/images/logo.png'\n",
    "response = requests.get(url)\n",
    "with open('logo.png', 'wb') as file:\n",
    "    file.write(response.content)\n",
    "# 使用requests庫發送GET請求，並將回應的內容保存為檔。這裡以下載Google的Logo為例。"
   ]
  },
  {
   "cell_type": "code",
   "execution_count": null,
   "metadata": {},
   "outputs": [],
   "source": [
    "# 6. 處理異常\n",
    "try:\n",
    "    response = requests.get('https://www.google.com')\n",
    "    response.raise_for_status()\n",
    "except requests.exceptions.HTTPError as err:\n",
    "    print('HTTP Error:', err)\n",
    "except requests.exceptions.ConnectionError as err:\n",
    "    print('Connection Error:', err)\n",
    "except requests.exceptions.RequestException as err:\n",
    "    print('Error:', err)\n",
    "# 使用requests庫發送GET請求，並處理可能出現的異常情況。分別捕獲HTTPError、ConnectionError和其他異常。\n"
   ]
  },
  {
   "cell_type": "code",
   "execution_count": null,
   "metadata": {},
   "outputs": [],
   "source": [
    "# 7. 獲取回應狀態碼\n",
    "response = requests.get('https://www.google.com')\n",
    "print(response.status_code)\n",
    "# 使用requests庫發送GET請求，並獲取回應的狀態碼。列印出狀態碼。"
   ]
  },
  {
   "cell_type": "code",
   "execution_count": null,
   "metadata": {},
   "outputs": [],
   "source": [
    "# 8. 獲取回應頭資訊\n",
    "response = requests.get('https://www.google.com')\n",
    "print(response.headers)\n",
    "# 使用requests庫發送GET請求，並獲取回應的頭資訊。列印出頭資訊。\n"
   ]
  },
  {
   "cell_type": "code",
   "execution_count": null,
   "metadata": {},
   "outputs": [],
   "source": [
    "# 9. 獲取請求的URL\n",
    "response = requests.get('https://www.google.com')\n",
    "print(response.url)\n",
    "# 使用requests庫發送GET請求，並獲取請求的URL。列印出URL。\n"
   ]
  },
  {
   "cell_type": "code",
   "execution_count": null,
   "metadata": {},
   "outputs": [],
   "source": [
    "# 10. 設置認證\n",
    "auth = ('username', 'password')\n",
    "response = requests.get('https://www.google.com', auth=auth)\n",
    "print(response.text)\n",
    "# 使用requests\n"
   ]
  },
  {
   "cell_type": "code",
   "execution_count": null,
   "metadata": {},
   "outputs": [],
   "source": [
    "import requests\n",
    "url1 = 'https://www.google.com/search?q=ithome'\n",
    "res = requests.get(url1)\n",
    "print(res.text)"
   ]
  }
 ],
 "metadata": {
  "kernelspec": {
   "display_name": "webcrawler-8D2_bCrA",
   "language": "python",
   "name": "python3"
  },
  "language_info": {
   "codemirror_mode": {
    "name": "ipython",
    "version": 3
   },
   "file_extension": ".py",
   "mimetype": "text/x-python",
   "name": "python",
   "nbconvert_exporter": "python",
   "pygments_lexer": "ipython3",
   "version": "3.11.3"
  },
  "orig_nbformat": 4
 },
 "nbformat": 4,
 "nbformat_minor": 2
}
