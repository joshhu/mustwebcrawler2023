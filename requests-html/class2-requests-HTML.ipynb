{
 "cells": [
  {
   "attachments": {},
   "cell_type": "markdown",
   "metadata": {},
   "source": [
    "## `requests-HTML`函式庫的使用\n",
    "* 先安裝"
   ]
  },
  {
   "cell_type": "code",
   "execution_count": null,
   "metadata": {},
   "outputs": [],
   "source": [
    "!pipenv install requests-html"
   ]
  },
  {
   "attachments": {},
   "cell_type": "markdown",
   "metadata": {},
   "source": [
    "### 基本使用"
   ]
  },
  {
   "cell_type": "code",
   "execution_count": null,
   "metadata": {},
   "outputs": [],
   "source": [
    "from requests_html import HTMLSession\n",
    "\n",
    "session = HTMLSession()\n",
    "response = session.get('https://www.must.edu.tw')\n",
    "print(response.text)  # 顯示網頁原始碼\n"
   ]
  },
  {
   "cell_type": "code",
   "execution_count": null,
   "metadata": {},
   "outputs": [],
   "source": [
    "from requests_html import HTMLSession\n",
    "#宣告 Session\n",
    "session = HTMLSession()\n",
    "r = session.get('https://ithelp.ithome.com.tw/users/20134430/ironman/4307')\n",
    "print(type(r.html))\n",
    "\n",
    "r = session.post('https://ithelp.ithome.com.tw/users/20134430/ironman/4307', data={})\n",
    "print(type(r.html))"
   ]
  },
  {
   "cell_type": "code",
   "execution_count": null,
   "metadata": {},
   "outputs": [],
   "source": [
    "from requests_html import HTMLSession\n",
    "session = HTMLSession()\n",
    "r = session.get('https://ithelp.ithome.com.tw/users/20134430/ironman/4307')\n",
    "# 輸出網頁的網址\n",
    "print(r.html.url)\n",
    "# 輸出網頁內容內的所有網址\n",
    "print(r.html.links)\n",
    "# 輸出網頁內容(HTML)\n",
    "print(r.text)\n",
    "# 輸出網頁文字內容(除去 HTML)\n",
    "print(r.html.text)"
   ]
  },
  {
   "attachments": {},
   "cell_type": "markdown",
   "metadata": {},
   "source": [
    "## 對元素定位\n",
    "`find`\n",
    "語法: `find(selector, containing, clean, first, _encoding)`\n",
    "\n",
    "* selector : CSS 選擇器\n",
    "* containing : 傳入字串，使定位到的元素包含該字串，預設為 None。\n",
    "* clean : 是否清除並忽略 HTML 中 標籤，預設為 False\n",
    "* first : 使否只尋找到第一個定位到的元素，預設為 False\n",
    "* _encoding : 編碼格式，預設為 None"
   ]
  },
  {
   "cell_type": "code",
   "execution_count": null,
   "metadata": {},
   "outputs": [],
   "source": [
    "from requests_html import HTMLSession\n",
    "session = HTMLSession()\n",
    "r = session.get('https://ithelp.ithome.com.tw/users/20134430/ironman/4307')\n",
    "\n",
    "ele = r.html.find(\n",
    "    'body > div.container.index-top > div > div > div.board.leftside.profile-main > div.ir-profile-content')\n",
    "\n",
    "print(ele[0].text)"
   ]
  },
  {
   "cell_type": "code",
   "execution_count": 9,
   "metadata": {},
   "outputs": [
    {
     "name": "stdout",
     "output_type": "stream",
     "text": [
      "/\n"
     ]
    }
   ],
   "source": [
    "links = r.html.find('a')\n",
    "for link in links:\n",
    "    print(link.attrs['href'])\n",
    "    break"
   ]
  },
  {
   "attachments": {},
   "cell_type": "markdown",
   "metadata": {},
   "source": [
    "## `xpath`\n",
    "語法: `xpath(selector, clean, first, _encoding)`\n",
    "\n",
    "* selector : XPath 選擇器\n",
    "* clean : 是否清除並忽略 HTML 中 標籤，預設為 False\n",
    "* first : 使否只尋找到第一個定位到的元素，預設為 False\n",
    "* _encoding : 編碼格式，預設為 None"
   ]
  },
  {
   "cell_type": "code",
   "execution_count": null,
   "metadata": {},
   "outputs": [],
   "source": [
    "from requests_html import HTMLSession\n",
    "session = HTMLSession()\n",
    "r = session.get('https://ithelp.ithome.com.tw/users/20134430/ironman/4307')\n",
    "\n",
    "ele = r.html.xpath(\n",
    "    '/html/body/div[2]/div/div/div[2]/div[1]')\n",
    "\n",
    "print(ele[0].text)"
   ]
  },
  {
   "cell_type": "code",
   "execution_count": 11,
   "metadata": {},
   "outputs": [
    {
     "name": "stdout",
     "output_type": "stream",
     "text": [
      "{'src': 'https://ithelp.ithome.com.tw/storage/image/logo.svg', 'alt': 'iT邦幫忙', 'class': ('img-responsive',)}\n",
      "{'src': 'https://ithelp.ithome.com.tw/storage/image/nav_logo.svg', 'alt': 'iT邦幫忙'}\n",
      "{'src': 'https://member.ithome.com.tw/avatars/156185?s=ithelp', 'class': ('profile-header__avatar-img',)}\n",
      "{'src': 'https://ithelp.ithome.com.tw/storage/image/fight.svg', 'alt': '', 'class': ()}\n",
      "{'src': 'https://ithelp.ithome.com.tw/storage/image/fight.svg', 'alt': '', 'class': ()}\n",
      "{'v-if': 'result && result.center_id', ':src': \"'https://member.ithome.com.tw/avatars/' + result.center_id + '?s=ithelp'\", 'style': 'float: left; margin-left: 10px; width: 48px; height: 48px;'}\n"
     ]
    }
   ],
   "source": [
    "images = r.html.xpath('//img')\n",
    "for img in images:\n",
    "    print(img.attrs)"
   ]
  },
  {
   "attachments": {},
   "cell_type": "markdown",
   "metadata": {},
   "source": [
    "`search`\n",
    "語法: `search(template)`\n",
    "\n",
    "傳回第一個符合 template 的字串 {} 的部分\n",
    "\n",
    "* template : 字串模板"
   ]
  },
  {
   "cell_type": "code",
   "execution_count": null,
   "metadata": {},
   "outputs": [],
   "source": [
    "from requests_html import HTMLSession\n",
    "session = HTMLSession()\n",
    "r = session.get('https://ithelp.ithome.com.tw/users/20134430/ironman/4307')\n",
    "\n",
    "# print(r.html.text)\n",
    "ele = r.html.xpath(\n",
    "    '/html/body/div[2]/div/div/div[2]/div[1]')\n",
    "\n",
    "print(ele[0].search('【Day {}】'), ele[0].search('【Day {}】').fixed)"
   ]
  },
  {
   "cell_type": "code",
   "execution_count": 13,
   "metadata": {},
   "outputs": [
    {
     "name": "stdout",
     "output_type": "stream",
     "text": [
      "<Result () {}>\n",
      "<Result () {}>\n",
      "<Result () {}>\n",
      "<Result () {}>\n",
      "<Result () {}>\n",
      "<Result () {}>\n",
      "<Result () {}>\n",
      "<Result () {}>\n",
      "<Result () {}>\n",
      "<Result () {}>\n",
      "<Result () {}>\n",
      "<Result () {}>\n",
      "<Result () {}>\n",
      "<Result () {}>\n",
      "<Result () {}>\n",
      "<Result () {}>\n",
      "<Result () {}>\n",
      "<Result () {}>\n",
      "<Result () {}>\n",
      "<Result () {}>\n",
      "<Result () {}>\n",
      "<Result () {}>\n",
      "<Result () {}>\n",
      "<Result () {}>\n",
      "<Result () {}>\n",
      "<Result () {}>\n",
      "<Result () {}>\n",
      "<Result () {}>\n",
      "<Result () {}>\n",
      "<Result () {}>\n",
      "<Result () {}>\n",
      "<Result () {}>\n",
      "<Result () {}>\n",
      "<Result () {}>\n",
      "<Result () {}>\n",
      "<Result () {}>\n",
      "<Result () {}>\n",
      "<Result () {}>\n",
      "<Result () {}>\n",
      "<Result () {}>\n",
      "<Result () {}>\n",
      "<Result () {}>\n",
      "<Result () {}>\n",
      "<Result () {}>\n",
      "<Result () {}>\n",
      "<Result () {}>\n",
      "<Result () {}>\n",
      "<Result () {}>\n",
      "<Result () {}>\n",
      "<Result () {}>\n",
      "<Result () {}>\n",
      "<Result () {}>\n",
      "<Result () {}>\n",
      "<Result () {}>\n",
      "<Result () {}>\n",
      "<Result () {}>\n",
      "<Result () {}>\n",
      "<Result () {}>\n",
      "<Result () {}>\n",
      "<Result () {}>\n",
      "<Result () {}>\n",
      "<Result () {}>\n",
      "<Result () {}>\n",
      "<Result () {}>\n",
      "<Result () {}>\n",
      "<Result () {}>\n",
      "<Result () {}>\n",
      "<Result () {}>\n",
      "<Result () {}>\n",
      "<Result () {}>\n",
      "<Result () {}>\n",
      "<Result () {}>\n",
      "<Result () {}>\n",
      "<Result () {}>\n",
      "<Result () {}>\n",
      "<Result () {}>\n",
      "<Result () {}>\n",
      "<Result () {}>\n",
      "<Result () {}>\n",
      "<Result () {}>\n",
      "<Result () {}>\n",
      "<Result () {}>\n",
      "<Result () {}>\n",
      "<Result () {}>\n",
      "<Result () {}>\n",
      "<Result () {}>\n",
      "<Result () {}>\n",
      "<Result () {}>\n",
      "<Result () {}>\n",
      "<Result () {}>\n",
      "<Result () {}>\n",
      "<Result () {}>\n",
      "<Result () {}>\n",
      "<Result () {}>\n",
      "<Result () {}>\n",
      "<Result () {}>\n",
      "<Result () {}>\n",
      "<Result () {}>\n",
      "<Result () {}>\n",
      "<Result () {}>\n",
      "<Result () {}>\n",
      "<Result () {}>\n",
      "<Result () {}>\n",
      "<Result () {}>\n",
      "<Result () {}>\n",
      "<Result () {}>\n",
      "<Result () {}>\n",
      "<Result () {}>\n",
      "<Result () {}>\n",
      "<Result () {}>\n",
      "<Result () {}>\n",
      "<Result () {}>\n",
      "<Result () {}>\n",
      "<Result () {}>\n",
      "<Result () {}>\n",
      "<Result () {}>\n",
      "<Result () {}>\n",
      "<Result () {}>\n",
      "<Result () {}>\n",
      "<Result () {}>\n",
      "<Result () {}>\n",
      "<Result () {}>\n",
      "<Result () {}>\n",
      "<Result () {}>\n",
      "<Result () {}>\n",
      "<Result () {}>\n",
      "<Result () {}>\n",
      "<Result () {}>\n",
      "<Result () {}>\n",
      "<Result () {}>\n",
      "<Result () {}>\n",
      "<Result () {}>\n",
      "<Result () {}>\n",
      "<Result () {}>\n",
      "<Result () {}>\n",
      "<Result () {}>\n",
      "<Result () {}>\n",
      "<Result () {}>\n",
      "<Result () {}>\n",
      "<Result () {}>\n",
      "<Result () {}>\n",
      "<Result () {}>\n"
     ]
    }
   ],
   "source": [
    "results = r.html.search_all('ithome')\n",
    "for result in results:\n",
    "    print(result)"
   ]
  },
  {
   "attachments": {},
   "cell_type": "markdown",
   "metadata": {},
   "source": [
    "## `search_all`\n",
    "語法: `search_all(template)`\n",
    "\n",
    "傳回符合 template 的字串 {} 的部分\n",
    "\n",
    "* template : 字串模板。"
   ]
  },
  {
   "cell_type": "code",
   "execution_count": null,
   "metadata": {},
   "outputs": [],
   "source": [
    "from requests_html import HTMLSession\n",
    "session = HTMLSession()\n",
    "r = session.get('https://ithelp.ithome.com.tw/users/20134430/ironman/4307')\n",
    "\n",
    "# print(r.html.text)\n",
    "ele = r.html.xpath(\n",
    "    '/html/body/div[2]/div/div/div[2]/div[1]')\n",
    "\n",
    "print(ele[0].search_all('【Day {}】'))\n",
    "for day in ele[0].search_all('【Day {}】'):\n",
    "    print(day.fixed)"
   ]
  },
  {
   "attachments": {},
   "cell_type": "markdown",
   "metadata": {},
   "source": [
    "### 顯示網頁的標題"
   ]
  },
  {
   "cell_type": "code",
   "execution_count": null,
   "metadata": {},
   "outputs": [],
   "source": []
  },
  {
   "cell_type": "code",
   "execution_count": null,
   "metadata": {},
   "outputs": [],
   "source": [
    "from requests_html import HTMLSession\n",
    "\n",
    "session = HTMLSession()\n",
    "response = session.get('https://www.must.edu.tw')\n",
    "print(response.html.find('title', first=True).text)  # 顯示網頁標題\n"
   ]
  },
  {
   "attachments": {},
   "cell_type": "markdown",
   "metadata": {},
   "source": [
    "### 搜索網頁中的所有超連結："
   ]
  },
  {
   "cell_type": "code",
   "execution_count": null,
   "metadata": {},
   "outputs": [],
   "source": [
    "from requests_html import HTMLSession\n",
    "\n",
    "session = HTMLSession()\n",
    "response = session.get('https://www.must.edu.tw')\n",
    "for link in response.html.absolute_links:  # 取得所有完整網址的超連結\n",
    "    print(link)\n"
   ]
  },
  {
   "attachments": {},
   "cell_type": "markdown",
   "metadata": {},
   "source": [
    "### 搜索網頁中的特定元素"
   ]
  },
  {
   "cell_type": "code",
   "execution_count": null,
   "metadata": {},
   "outputs": [],
   "source": [
    "from requests_html import HTMLSession\n",
    "\n",
    "session = HTMLSession()\n",
    "response = session.get('https://www.must.edu.tw')\n",
    "elements = response.html.find('.mobilenav')  # 尋找所有class為'className'的元素\n",
    "for element in elements:\n",
    "    print(element.text)\n",
    "    break\n"
   ]
  },
  {
   "attachments": {},
   "cell_type": "markdown",
   "metadata": {},
   "source": [
    "### 從網頁中取得圖片"
   ]
  },
  {
   "cell_type": "code",
   "execution_count": null,
   "metadata": {},
   "outputs": [],
   "source": [
    "from requests_html import HTMLSession\n",
    "\n",
    "session = HTMLSession()\n",
    "response = session.get('https://www.must.edu.tw')\n",
    "images = response.html.find('img')  # 找到所有圖片元素\n",
    "for image in images:\n",
    "    print(image.attrs['src'])  # 印出每張圖片的來源\n"
   ]
  },
  {
   "attachments": {},
   "cell_type": "markdown",
   "metadata": {},
   "source": [
    "### 從網頁中取得特定屬性的值"
   ]
  },
  {
   "cell_type": "code",
   "execution_count": null,
   "metadata": {},
   "outputs": [],
   "source": [
    "from requests_html import HTMLSession\n",
    "\n",
    "session = HTMLSession()\n",
    "response = session.get('https://www.must.edu.tw')\n",
    "elements = response.html.find('a')  # 找到所有的超連結\n",
    "for element in elements:\n",
    "    print(element.attrs['href'])  # 印出每個超連結的URL\n",
    "    break"
   ]
  },
  {
   "attachments": {},
   "cell_type": "markdown",
   "metadata": {},
   "source": [
    "### 從網頁中取得meta標籤的內容："
   ]
  },
  {
   "cell_type": "code",
   "execution_count": null,
   "metadata": {},
   "outputs": [],
   "source": [
    "from requests_html import HTMLSession\n",
    "\n",
    "session = HTMLSession()\n",
    "response = session.get('https://www.must.edu.tw')\n",
    "metas = response.html.find('meta')  # 找到所有的meta標籤\n",
    "for meta in metas:\n",
    "    print(meta.attrs)  # 印出每個meta標籤的內容\n"
   ]
  },
  {
   "attachments": {},
   "cell_type": "markdown",
   "metadata": {},
   "source": [
    "### 找到所有段落(p標籤)並印出文字內容"
   ]
  },
  {
   "cell_type": "code",
   "execution_count": null,
   "metadata": {},
   "outputs": [],
   "source": [
    "from requests_html import HTMLSession\n",
    "\n",
    "session = HTMLSession()\n",
    "response = session.get('https://www.must.edu.tw')\n",
    "paragraphs = response.html.find('p')  # 找到所有的段落\n",
    "for paragraph in paragraphs:\n",
    "    print(paragraph.text)  # 印出段落內容"
   ]
  }
 ],
 "metadata": {
  "kernelspec": {
   "display_name": "webcrawler-8D2_bCrA",
   "language": "python",
   "name": "python3"
  },
  "language_info": {
   "codemirror_mode": {
    "name": "ipython",
    "version": 3
   },
   "file_extension": ".py",
   "mimetype": "text/x-python",
   "name": "python",
   "nbconvert_exporter": "python",
   "pygments_lexer": "ipython3",
   "version": "3.11.3"
  },
  "orig_nbformat": 4
 },
 "nbformat": 4,
 "nbformat_minor": 2
}
